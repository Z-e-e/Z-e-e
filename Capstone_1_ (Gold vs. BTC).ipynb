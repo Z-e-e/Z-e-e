{
 "cells": [
  {
   "cell_type": "markdown",
   "metadata": {},
   "source": [
    "# BTC vs. GOLD"
   ]
  },
  {
   "cell_type": "markdown",
   "metadata": {},
   "source": [
    "#### In the past decade, BTC has been steadily rising to prominence and penetrating the mainstream. While is it still widely considered too volatile to be considered a safe meadium for storing value, it is compared with Gold quite often. In this brief Capstone project, I will not delve into the factors that impact the return of BTC nor do I try to prove the correlation between the rate of return of the two assets. This project is merely exploratory and tries to answet the question:\n",
    "\n",
    "#### What is the rate of return of BTC and Gold? In the following project, I describe my method for data acquirement, mining and visulaization. \n",
    "\n",
    "#### Relying on Yahoo! Finance data from the beginning of 2019, I use the Daily Close price of both assets. This year, 2019, has been notable for both assets. In terms of BTC, this year saw a recovery from a bear-ish run in 2018 -reaching a low of around \\$3,000 USD- to a high of over \\$13,000 USD per BTC in June of this Year. Similarily Gold price per ounce reached over $1,400 for the first time in more than half a decade. \n",
    "\n",
    "#### What is the rate of return of BTC and Gold? In the following project, I describe my method for data acquirement, mining and visualization. "
   ]
  },
  {
   "cell_type": "markdown",
   "metadata": {},
   "source": [
    "## Setting up the development environment and installing the pertinent sub packages."
   ]
  },
  {
   "cell_type": "markdown",
   "metadata": {},
   "source": [
    "#### In the first step, it was important is to install 'pandas- datareader', to create a dataframe from the stock price data from Yahoo! Finance"
   ]
  },
  {
   "cell_type": "code",
   "execution_count": 1,
   "metadata": {},
   "outputs": [
    {
     "name": "stdout",
     "output_type": "stream",
     "text": [
      "Requirement already satisfied: pandas-datareader in c:\\users\\zalth\\anaconda3\\lib\\site-packages (0.7.0)\n",
      "Requirement already satisfied: wrapt in c:\\users\\zalth\\anaconda3\\lib\\site-packages (from pandas-datareader) (1.11.1)\n",
      "Requirement already satisfied: pandas>=0.19.2 in c:\\users\\zalth\\anaconda3\\lib\\site-packages (from pandas-datareader) (0.24.2)\n",
      "Requirement already satisfied: lxml in c:\\users\\zalth\\anaconda3\\lib\\site-packages (from pandas-datareader) (4.3.2)\n",
      "Requirement already satisfied: requests>=2.3.0 in c:\\users\\zalth\\anaconda3\\lib\\site-packages (from pandas-datareader) (2.21.0)\n",
      "Requirement already satisfied: numpy>=1.12.0 in c:\\users\\zalth\\anaconda3\\lib\\site-packages (from pandas>=0.19.2->pandas-datareader) (1.16.2)\n",
      "Requirement already satisfied: pytz>=2011k in c:\\users\\zalth\\anaconda3\\lib\\site-packages (from pandas>=0.19.2->pandas-datareader) (2018.9)\n",
      "Requirement already satisfied: python-dateutil>=2.5.0 in c:\\users\\zalth\\anaconda3\\lib\\site-packages (from pandas>=0.19.2->pandas-datareader) (2.8.0)\n",
      "Requirement already satisfied: chardet<3.1.0,>=3.0.2 in c:\\users\\zalth\\anaconda3\\lib\\site-packages (from requests>=2.3.0->pandas-datareader) (3.0.4)\n",
      "Requirement already satisfied: urllib3<1.25,>=1.21.1 in c:\\users\\zalth\\anaconda3\\lib\\site-packages (from requests>=2.3.0->pandas-datareader) (1.24.1)\n",
      "Requirement already satisfied: idna<2.9,>=2.5 in c:\\users\\zalth\\anaconda3\\lib\\site-packages (from requests>=2.3.0->pandas-datareader) (2.8)\n",
      "Requirement already satisfied: certifi>=2017.4.17 in c:\\users\\zalth\\anaconda3\\lib\\site-packages (from requests>=2.3.0->pandas-datareader) (2019.3.9)\n",
      "Requirement already satisfied: six>=1.5 in c:\\users\\zalth\\anaconda3\\lib\\site-packages (from python-dateutil>=2.5.0->pandas>=0.19.2->pandas-datareader) (1.12.0)\n",
      "Note: you may need to restart the kernel to use updated packages.\n"
     ]
    }
   ],
   "source": [
    "pip install pandas-datareader"
   ]
  },
  {
   "cell_type": "markdown",
   "metadata": {},
   "source": [
    "#### Next, to access data from Yahoo! Finance APIs, a work-around is needed, since the historical API is no longer useable. I found this workaround through a google search."
   ]
  },
  {
   "cell_type": "code",
   "execution_count": 2,
   "metadata": {},
   "outputs": [
    {
     "name": "stdout",
     "output_type": "stream",
     "text": [
      "Requirement already up-to-date: yfinance in c:\\users\\zalth\\anaconda3\\lib\\site-packages (0.1.43)\n",
      "Requirement already satisfied, skipping upgrade: pandas>=0.24 in c:\\users\\zalth\\anaconda3\\lib\\site-packages (from yfinance) (0.24.2)\n",
      "Requirement already satisfied, skipping upgrade: numpy>=1.15 in c:\\users\\zalth\\anaconda3\\lib\\site-packages (from yfinance) (1.16.2)\n",
      "Requirement already satisfied, skipping upgrade: requests>=2.20 in c:\\users\\zalth\\anaconda3\\lib\\site-packages (from yfinance) (2.21.0)\n",
      "Requirement already satisfied, skipping upgrade: multitasking>=0.0.7 in c:\\users\\zalth\\anaconda3\\lib\\site-packages (from yfinance) (0.0.9)\n",
      "Requirement already satisfied, skipping upgrade: python-dateutil>=2.5.0 in c:\\users\\zalth\\anaconda3\\lib\\site-packages (from pandas>=0.24->yfinance) (2.8.0)\n",
      "Requirement already satisfied, skipping upgrade: pytz>=2011k in c:\\users\\zalth\\anaconda3\\lib\\site-packages (from pandas>=0.24->yfinance) (2018.9)\n",
      "Requirement already satisfied, skipping upgrade: urllib3<1.25,>=1.21.1 in c:\\users\\zalth\\anaconda3\\lib\\site-packages (from requests>=2.20->yfinance) (1.24.1)\n",
      "Requirement already satisfied, skipping upgrade: chardet<3.1.0,>=3.0.2 in c:\\users\\zalth\\anaconda3\\lib\\site-packages (from requests>=2.20->yfinance) (3.0.4)\n",
      "Requirement already satisfied, skipping upgrade: idna<2.9,>=2.5 in c:\\users\\zalth\\anaconda3\\lib\\site-packages (from requests>=2.20->yfinance) (2.8)\n",
      "Requirement already satisfied, skipping upgrade: certifi>=2017.4.17 in c:\\users\\zalth\\anaconda3\\lib\\site-packages (from requests>=2.20->yfinance) (2019.3.9)\n",
      "Requirement already satisfied, skipping upgrade: six>=1.5 in c:\\users\\zalth\\anaconda3\\lib\\site-packages (from python-dateutil>=2.5.0->pandas>=0.24->yfinance) (1.12.0)\n",
      "Note: you may need to restart the kernel to use updated packages.\n"
     ]
    }
   ],
   "source": [
    "pip install yfinance --upgrade --no-cache-dir"
   ]
  },
  {
   "cell_type": "code",
   "execution_count": 3,
   "metadata": {},
   "outputs": [
    {
     "name": "stdout",
     "output_type": "stream",
     "text": [
      "Requirement already satisfied: pyspellchecker in c:\\users\\zalth\\anaconda3\\lib\\site-packages (0.5.0)\n",
      "Note: you may need to restart the kernel to use updated packages.\n"
     ]
    }
   ],
   "source": [
    "pip install pyspellchecker"
   ]
  },
  {
   "cell_type": "markdown",
   "metadata": {},
   "source": [
    "#### The following is a typical development environment, except fot the yfinance library. "
   ]
  },
  {
   "cell_type": "code",
   "execution_count": 5,
   "metadata": {},
   "outputs": [],
   "source": [
    "import numpy as np\n",
    "import pandas as pd\n",
    "pd.core.common.is_list_like = pd.api.types.is_list_like\n",
    "import matplotlib.pyplot as plt\n",
    "from pandas_datareader import data as pdr\n",
    "import yfinance as fyf\n",
    "import matplotlib as mpl\n",
    "from pandas.plotting import scatter_matrix\n",
    "from scipy import stats\n",
    "from datetime import date\n",
    "from datetime import datetime\n",
    "from pandas import Timestamp\n",
    "from statsmodels.graphics.gofplots import qqplot\n",
    "%matplotlib inline"
   ]
  },
  {
   "cell_type": "code",
   "execution_count": 6,
   "metadata": {},
   "outputs": [],
   "source": [
    "fyf.pdr_override()"
   ]
  },
  {
   "cell_type": "code",
   "execution_count": 7,
   "metadata": {},
   "outputs": [],
   "source": [
    "import warnings\n",
    "warnings.filterwarnings(\"ignore\")"
   ]
  },
  {
   "cell_type": "markdown",
   "metadata": {},
   "source": [
    "## Price of BTC in USD (Source = CryptoCompare)"
   ]
  },
  {
   "cell_type": "markdown",
   "metadata": {},
   "source": [
    "#### After exploring the data for BTC and Gold stock prices on Yahoo! Finance, I decided to get data from the beginning of 2019, since it seemed most comprhensive and complete for both assets. Additionally, I was only interested in the changes in price and rate of return during this year.  \n",
    "\n",
    "#### As table (btc2) below shows, the data consists of Open, High, Low, Close  and Adj Close Prices. For the purposes of this study, Close price is the most useful. While Volume data is interesting, it is not very important within the context of this study. \n",
    "\n",
    "#### In this data series, data is provided daily which presents many opportunities for analysis. "
   ]
  },
  {
   "cell_type": "code",
   "execution_count": 8,
   "metadata": {},
   "outputs": [
    {
     "name": "stdout",
     "output_type": "stream",
     "text": [
      "[*********************100%***********************]  1 of 1 downloaded\n"
     ]
    },
    {
     "data": {
      "text/html": [
       "<div>\n",
       "<style scoped>\n",
       "    .dataframe tbody tr th:only-of-type {\n",
       "        vertical-align: middle;\n",
       "    }\n",
       "\n",
       "    .dataframe tbody tr th {\n",
       "        vertical-align: top;\n",
       "    }\n",
       "\n",
       "    .dataframe thead th {\n",
       "        text-align: right;\n",
       "    }\n",
       "</style>\n",
       "<table border=\"1\" class=\"dataframe\">\n",
       "  <thead>\n",
       "    <tr style=\"text-align: right;\">\n",
       "      <th></th>\n",
       "      <th>Open</th>\n",
       "      <th>High</th>\n",
       "      <th>Low</th>\n",
       "      <th>Close</th>\n",
       "      <th>Adj Close</th>\n",
       "      <th>Volume</th>\n",
       "    </tr>\n",
       "    <tr>\n",
       "      <th>Date</th>\n",
       "      <th></th>\n",
       "      <th></th>\n",
       "      <th></th>\n",
       "      <th></th>\n",
       "      <th></th>\n",
       "      <th></th>\n",
       "    </tr>\n",
       "  </thead>\n",
       "  <tbody>\n",
       "    <tr>\n",
       "      <th>2019-01-01</th>\n",
       "      <td>3747.3899</td>\n",
       "      <td>3696.9397</td>\n",
       "      <td>3938.7493</td>\n",
       "      <td>3880.1501</td>\n",
       "      <td>3880.1501</td>\n",
       "      <td>17059830700</td>\n",
       "    </tr>\n",
       "    <tr>\n",
       "      <th>2019-01-02</th>\n",
       "      <td>3880.1501</td>\n",
       "      <td>3826.2893</td>\n",
       "      <td>3989.5906</td>\n",
       "      <td>3961.0095</td>\n",
       "      <td>3961.0095</td>\n",
       "      <td>21085460300</td>\n",
       "    </tr>\n",
       "    <tr>\n",
       "      <th>2019-01-03</th>\n",
       "      <td>3961.0095</td>\n",
       "      <td>3778.7595</td>\n",
       "      <td>3965.5208</td>\n",
       "      <td>3835.8604</td>\n",
       "      <td>3835.8604</td>\n",
       "      <td>17648807200</td>\n",
       "    </tr>\n",
       "    <tr>\n",
       "      <th>2019-01-04</th>\n",
       "      <td>3835.8604</td>\n",
       "      <td>3783.8801</td>\n",
       "      <td>3901.6501</td>\n",
       "      <td>3874.0603</td>\n",
       "      <td>3874.0603</td>\n",
       "      <td>17050761100</td>\n",
       "    </tr>\n",
       "    <tr>\n",
       "      <th>2019-01-07</th>\n",
       "      <td>4102.8501</td>\n",
       "      <td>4001.3494</td>\n",
       "      <td>4132.6206</td>\n",
       "      <td>4050.4001</td>\n",
       "      <td>4050.4001</td>\n",
       "      <td>20928936800</td>\n",
       "    </tr>\n",
       "  </tbody>\n",
       "</table>\n",
       "</div>"
      ],
      "text/plain": [
       "                 Open       High        Low      Close  Adj Close       Volume\n",
       "Date                                                                          \n",
       "2019-01-01  3747.3899  3696.9397  3938.7493  3880.1501  3880.1501  17059830700\n",
       "2019-01-02  3880.1501  3826.2893  3989.5906  3961.0095  3961.0095  21085460300\n",
       "2019-01-03  3961.0095  3778.7595  3965.5208  3835.8604  3835.8604  17648807200\n",
       "2019-01-04  3835.8604  3783.8801  3901.6501  3874.0603  3874.0603  17050761100\n",
       "2019-01-07  4102.8501  4001.3494  4132.6206  4050.4001  4050.4001  20928936800"
      ]
     },
     "execution_count": 8,
     "metadata": {},
     "output_type": "execute_result"
    }
   ],
   "source": [
    "btc1 = pdr.get_data_yahoo('BTCUSD=X', start = '2019-01-01')\n",
    "btc1.head()"
   ]
  },
  {
   "cell_type": "code",
   "execution_count": 9,
   "metadata": {},
   "outputs": [
    {
     "data": {
      "text/plain": [
       "pandas.core.series.Series"
      ]
     },
     "execution_count": 9,
     "metadata": {},
     "output_type": "execute_result"
    }
   ],
   "source": [
    "type(btc1['Close'])"
   ]
  },
  {
   "cell_type": "code",
   "execution_count": 10,
   "metadata": {},
   "outputs": [
    {
     "data": {
      "text/plain": [
       "pandas.core.frame.DataFrame"
      ]
     },
     "execution_count": 10,
     "metadata": {},
     "output_type": "execute_result"
    }
   ],
   "source": [
    "type(btc1)"
   ]
  },
  {
   "cell_type": "markdown",
   "metadata": {},
   "source": [
    "#### While BTC is traded on the weekends as well as on holidays, Gold stocks are traded during business days. Referring to a few pertinent comparative studies, I decided to remove weekends from the BTC Price data. "
   ]
  },
  {
   "cell_type": "code",
   "execution_count": 11,
   "metadata": {},
   "outputs": [
    {
     "data": {
      "text/html": [
       "<div>\n",
       "<style scoped>\n",
       "    .dataframe tbody tr th:only-of-type {\n",
       "        vertical-align: middle;\n",
       "    }\n",
       "\n",
       "    .dataframe tbody tr th {\n",
       "        vertical-align: top;\n",
       "    }\n",
       "\n",
       "    .dataframe thead th {\n",
       "        text-align: right;\n",
       "    }\n",
       "</style>\n",
       "<table border=\"1\" class=\"dataframe\">\n",
       "  <thead>\n",
       "    <tr style=\"text-align: right;\">\n",
       "      <th></th>\n",
       "      <th>Open</th>\n",
       "      <th>High</th>\n",
       "      <th>Low</th>\n",
       "      <th>Close</th>\n",
       "      <th>Adj Close</th>\n",
       "      <th>Volume</th>\n",
       "    </tr>\n",
       "    <tr>\n",
       "      <th>Date</th>\n",
       "      <th></th>\n",
       "      <th></th>\n",
       "      <th></th>\n",
       "      <th></th>\n",
       "      <th></th>\n",
       "      <th></th>\n",
       "    </tr>\n",
       "  </thead>\n",
       "  <tbody>\n",
       "    <tr>\n",
       "      <th>2019-01-01</th>\n",
       "      <td>3747.3899</td>\n",
       "      <td>3696.9397</td>\n",
       "      <td>3938.7493</td>\n",
       "      <td>3880.1501</td>\n",
       "      <td>3880.1501</td>\n",
       "      <td>17059830700</td>\n",
       "    </tr>\n",
       "    <tr>\n",
       "      <th>2019-01-02</th>\n",
       "      <td>3880.1501</td>\n",
       "      <td>3826.2893</td>\n",
       "      <td>3989.5906</td>\n",
       "      <td>3961.0095</td>\n",
       "      <td>3961.0095</td>\n",
       "      <td>21085460300</td>\n",
       "    </tr>\n",
       "    <tr>\n",
       "      <th>2019-01-03</th>\n",
       "      <td>3961.0095</td>\n",
       "      <td>3778.7595</td>\n",
       "      <td>3965.5208</td>\n",
       "      <td>3835.8604</td>\n",
       "      <td>3835.8604</td>\n",
       "      <td>17648807200</td>\n",
       "    </tr>\n",
       "    <tr>\n",
       "      <th>2019-01-04</th>\n",
       "      <td>3835.8604</td>\n",
       "      <td>3783.8801</td>\n",
       "      <td>3901.6501</td>\n",
       "      <td>3874.0603</td>\n",
       "      <td>3874.0603</td>\n",
       "      <td>17050761100</td>\n",
       "    </tr>\n",
       "    <tr>\n",
       "      <th>2019-01-07</th>\n",
       "      <td>4102.8501</td>\n",
       "      <td>4001.3494</td>\n",
       "      <td>4132.6206</td>\n",
       "      <td>4050.4001</td>\n",
       "      <td>4050.4001</td>\n",
       "      <td>20928936800</td>\n",
       "    </tr>\n",
       "  </tbody>\n",
       "</table>\n",
       "</div>"
      ],
      "text/plain": [
       "                 Open       High        Low      Close  Adj Close       Volume\n",
       "Date                                                                          \n",
       "2019-01-01  3747.3899  3696.9397  3938.7493  3880.1501  3880.1501  17059830700\n",
       "2019-01-02  3880.1501  3826.2893  3989.5906  3961.0095  3961.0095  21085460300\n",
       "2019-01-03  3961.0095  3778.7595  3965.5208  3835.8604  3835.8604  17648807200\n",
       "2019-01-04  3835.8604  3783.8801  3901.6501  3874.0603  3874.0603  17050761100\n",
       "2019-01-07  4102.8501  4001.3494  4132.6206  4050.4001  4050.4001  20928936800"
      ]
     },
     "execution_count": 11,
     "metadata": {},
     "output_type": "execute_result"
    }
   ],
   "source": [
    "btc2=btc1[btc1.index.dayofweek <5]\n",
    "btc2.head()"
   ]
  },
  {
   "cell_type": "code",
   "execution_count": 12,
   "metadata": {},
   "outputs": [
    {
     "data": {
      "text/html": [
       "<div>\n",
       "<style scoped>\n",
       "    .dataframe tbody tr th:only-of-type {\n",
       "        vertical-align: middle;\n",
       "    }\n",
       "\n",
       "    .dataframe tbody tr th {\n",
       "        vertical-align: top;\n",
       "    }\n",
       "\n",
       "    .dataframe thead th {\n",
       "        text-align: right;\n",
       "    }\n",
       "</style>\n",
       "<table border=\"1\" class=\"dataframe\">\n",
       "  <thead>\n",
       "    <tr style=\"text-align: right;\">\n",
       "      <th></th>\n",
       "      <th>Open</th>\n",
       "      <th>High</th>\n",
       "      <th>Low</th>\n",
       "      <th>Close</th>\n",
       "      <th>Adj Close</th>\n",
       "      <th>Volume</th>\n",
       "    </tr>\n",
       "    <tr>\n",
       "      <th>Date</th>\n",
       "      <th></th>\n",
       "      <th></th>\n",
       "      <th></th>\n",
       "      <th></th>\n",
       "      <th></th>\n",
       "      <th></th>\n",
       "    </tr>\n",
       "  </thead>\n",
       "  <tbody>\n",
       "    <tr>\n",
       "      <th>2019-07-22</th>\n",
       "      <td>10586.7051</td>\n",
       "      <td>10072.0654</td>\n",
       "      <td>10676.5977</td>\n",
       "      <td>10325.8740</td>\n",
       "      <td>10325.8740</td>\n",
       "      <td>52444285200</td>\n",
       "    </tr>\n",
       "    <tr>\n",
       "      <th>2019-07-23</th>\n",
       "      <td>10325.8740</td>\n",
       "      <td>9820.6074</td>\n",
       "      <td>10328.4453</td>\n",
       "      <td>9854.1484</td>\n",
       "      <td>9854.1484</td>\n",
       "      <td>52943812400</td>\n",
       "    </tr>\n",
       "    <tr>\n",
       "      <th>2019-07-24</th>\n",
       "      <td>9854.1484</td>\n",
       "      <td>9535.7793</td>\n",
       "      <td>9920.5361</td>\n",
       "      <td>9772.1426</td>\n",
       "      <td>9772.1426</td>\n",
       "      <td>53161190900</td>\n",
       "    </tr>\n",
       "    <tr>\n",
       "      <th>2019-07-25</th>\n",
       "      <td>9917.8096</td>\n",
       "      <td>9930.5000</td>\n",
       "      <td>9890.6406</td>\n",
       "      <td>9899.0898</td>\n",
       "      <td>9899.0898</td>\n",
       "      <td>0</td>\n",
       "    </tr>\n",
       "    <tr>\n",
       "      <th>2019-07-26</th>\n",
       "      <td>9772.2305</td>\n",
       "      <td>10184.4297</td>\n",
       "      <td>9744.7002</td>\n",
       "      <td>9870.4004</td>\n",
       "      <td>9870.4004</td>\n",
       "      <td>0</td>\n",
       "    </tr>\n",
       "  </tbody>\n",
       "</table>\n",
       "</div>"
      ],
      "text/plain": [
       "                  Open        High         Low       Close   Adj Close  \\\n",
       "Date                                                                     \n",
       "2019-07-22  10586.7051  10072.0654  10676.5977  10325.8740  10325.8740   \n",
       "2019-07-23  10325.8740   9820.6074  10328.4453   9854.1484   9854.1484   \n",
       "2019-07-24   9854.1484   9535.7793   9920.5361   9772.1426   9772.1426   \n",
       "2019-07-25   9917.8096   9930.5000   9890.6406   9899.0898   9899.0898   \n",
       "2019-07-26   9772.2305  10184.4297   9744.7002   9870.4004   9870.4004   \n",
       "\n",
       "                 Volume  \n",
       "Date                     \n",
       "2019-07-22  52444285200  \n",
       "2019-07-23  52943812400  \n",
       "2019-07-24  53161190900  \n",
       "2019-07-25            0  \n",
       "2019-07-26            0  "
      ]
     },
     "execution_count": 12,
     "metadata": {},
     "output_type": "execute_result"
    }
   ],
   "source": [
    "btc2.tail()"
   ]
  },
  {
   "cell_type": "markdown",
   "metadata": {},
   "source": [
    "####  The structure for the data of price for Gold per ounce in USD is the same as that of BTC above. '\n",
    "Gold stock price in USD (delayed price)"
   ]
  },
  {
   "cell_type": "code",
   "execution_count": 13,
   "metadata": {},
   "outputs": [
    {
     "name": "stdout",
     "output_type": "stream",
     "text": [
      "[*********************100%***********************]  1 of 1 downloaded\n"
     ]
    },
    {
     "data": {
      "text/html": [
       "<div>\n",
       "<style scoped>\n",
       "    .dataframe tbody tr th:only-of-type {\n",
       "        vertical-align: middle;\n",
       "    }\n",
       "\n",
       "    .dataframe tbody tr th {\n",
       "        vertical-align: top;\n",
       "    }\n",
       "\n",
       "    .dataframe thead th {\n",
       "        text-align: right;\n",
       "    }\n",
       "</style>\n",
       "<table border=\"1\" class=\"dataframe\">\n",
       "  <thead>\n",
       "    <tr style=\"text-align: right;\">\n",
       "      <th></th>\n",
       "      <th>Open</th>\n",
       "      <th>High</th>\n",
       "      <th>Low</th>\n",
       "      <th>Close</th>\n",
       "      <th>Adj Close</th>\n",
       "      <th>Volume</th>\n",
       "    </tr>\n",
       "    <tr>\n",
       "      <th>Date</th>\n",
       "      <th></th>\n",
       "      <th></th>\n",
       "      <th></th>\n",
       "      <th></th>\n",
       "      <th></th>\n",
       "      <th></th>\n",
       "    </tr>\n",
       "  </thead>\n",
       "  <tbody>\n",
       "    <tr>\n",
       "      <th>2019-01-02</th>\n",
       "      <td>1286.1</td>\n",
       "      <td>1292.4</td>\n",
       "      <td>1280.6</td>\n",
       "      <td>1288.0</td>\n",
       "      <td>1288.0</td>\n",
       "      <td>117161644</td>\n",
       "    </tr>\n",
       "    <tr>\n",
       "      <th>2019-01-03</th>\n",
       "      <td>1290.3</td>\n",
       "      <td>1297.3</td>\n",
       "      <td>1286.4</td>\n",
       "      <td>1296.8</td>\n",
       "      <td>1296.8</td>\n",
       "      <td>126026410</td>\n",
       "    </tr>\n",
       "    <tr>\n",
       "      <th>2019-01-04</th>\n",
       "      <td>1296.2</td>\n",
       "      <td>1298.1</td>\n",
       "      <td>1278.1</td>\n",
       "      <td>1286.2</td>\n",
       "      <td>1286.2</td>\n",
       "      <td>163584509</td>\n",
       "    </tr>\n",
       "    <tr>\n",
       "      <th>2019-01-06</th>\n",
       "      <td>1287.0</td>\n",
       "      <td>1288.3</td>\n",
       "      <td>1285.6</td>\n",
       "      <td>1285.7</td>\n",
       "      <td>1285.7</td>\n",
       "      <td>82778</td>\n",
       "    </tr>\n",
       "    <tr>\n",
       "      <th>2019-01-07</th>\n",
       "      <td>1290.2</td>\n",
       "      <td>1297.0</td>\n",
       "      <td>1287.3</td>\n",
       "      <td>1290.2</td>\n",
       "      <td>1290.2</td>\n",
       "      <td>115068369</td>\n",
       "    </tr>\n",
       "  </tbody>\n",
       "</table>\n",
       "</div>"
      ],
      "text/plain": [
       "              Open    High     Low   Close  Adj Close     Volume\n",
       "Date                                                            \n",
       "2019-01-02  1286.1  1292.4  1280.6  1288.0     1288.0  117161644\n",
       "2019-01-03  1290.3  1297.3  1286.4  1296.8     1296.8  126026410\n",
       "2019-01-04  1296.2  1298.1  1278.1  1286.2     1286.2  163584509\n",
       "2019-01-06  1287.0  1288.3  1285.6  1285.7     1285.7      82778\n",
       "2019-01-07  1290.2  1297.0  1287.3  1290.2     1290.2  115068369"
      ]
     },
     "execution_count": 13,
     "metadata": {},
     "output_type": "execute_result"
    }
   ],
   "source": [
    "gold2 = pdr.get_data_yahoo('GC=F', start = '2019-01-01')\n",
    "gold2.head()"
   ]
  },
  {
   "cell_type": "code",
   "execution_count": 14,
   "metadata": {},
   "outputs": [
    {
     "data": {
      "text/html": [
       "<div>\n",
       "<style scoped>\n",
       "    .dataframe tbody tr th:only-of-type {\n",
       "        vertical-align: middle;\n",
       "    }\n",
       "\n",
       "    .dataframe tbody tr th {\n",
       "        vertical-align: top;\n",
       "    }\n",
       "\n",
       "    .dataframe thead th {\n",
       "        text-align: right;\n",
       "    }\n",
       "</style>\n",
       "<table border=\"1\" class=\"dataframe\">\n",
       "  <thead>\n",
       "    <tr style=\"text-align: right;\">\n",
       "      <th></th>\n",
       "      <th>Open</th>\n",
       "      <th>High</th>\n",
       "      <th>Low</th>\n",
       "      <th>Close</th>\n",
       "      <th>Adj Close</th>\n",
       "      <th>Volume</th>\n",
       "    </tr>\n",
       "    <tr>\n",
       "      <th>Date</th>\n",
       "      <th></th>\n",
       "      <th></th>\n",
       "      <th></th>\n",
       "      <th></th>\n",
       "      <th></th>\n",
       "      <th></th>\n",
       "    </tr>\n",
       "  </thead>\n",
       "  <tbody>\n",
       "    <tr>\n",
       "      <th>2019-07-21</th>\n",
       "      <td>1428.5</td>\n",
       "      <td>1429.4</td>\n",
       "      <td>1424.4</td>\n",
       "      <td>1426.5</td>\n",
       "      <td>1426.5</td>\n",
       "      <td>463885</td>\n",
       "    </tr>\n",
       "    <tr>\n",
       "      <th>2019-07-22</th>\n",
       "      <td>1427.7</td>\n",
       "      <td>1430.8</td>\n",
       "      <td>1424.0</td>\n",
       "      <td>1424.5</td>\n",
       "      <td>1424.5</td>\n",
       "      <td>143551490</td>\n",
       "    </tr>\n",
       "    <tr>\n",
       "      <th>2019-07-23</th>\n",
       "      <td>1418.2</td>\n",
       "      <td>1431.1</td>\n",
       "      <td>1414.6</td>\n",
       "      <td>1417.1</td>\n",
       "      <td>1417.1</td>\n",
       "      <td>201962709</td>\n",
       "    </tr>\n",
       "    <tr>\n",
       "      <th>2019-07-24</th>\n",
       "      <td>1421.1</td>\n",
       "      <td>1430.0</td>\n",
       "      <td>1418.7</td>\n",
       "      <td>1425.2</td>\n",
       "      <td>1425.2</td>\n",
       "      <td>160276898</td>\n",
       "    </tr>\n",
       "    <tr>\n",
       "      <th>2019-07-25</th>\n",
       "      <td>1422.4</td>\n",
       "      <td>1434.1</td>\n",
       "      <td>1411.1</td>\n",
       "      <td>1415.3</td>\n",
       "      <td>1415.3</td>\n",
       "      <td>219691366</td>\n",
       "    </tr>\n",
       "  </tbody>\n",
       "</table>\n",
       "</div>"
      ],
      "text/plain": [
       "              Open    High     Low   Close  Adj Close     Volume\n",
       "Date                                                            \n",
       "2019-07-21  1428.5  1429.4  1424.4  1426.5     1426.5     463885\n",
       "2019-07-22  1427.7  1430.8  1424.0  1424.5     1424.5  143551490\n",
       "2019-07-23  1418.2  1431.1  1414.6  1417.1     1417.1  201962709\n",
       "2019-07-24  1421.1  1430.0  1418.7  1425.2     1425.2  160276898\n",
       "2019-07-25  1422.4  1434.1  1411.1  1415.3     1415.3  219691366"
      ]
     },
     "execution_count": 14,
     "metadata": {},
     "output_type": "execute_result"
    }
   ],
   "source": [
    "gold2.tail()"
   ]
  },
  {
   "cell_type": "markdown",
   "metadata": {},
   "source": [
    "#### Gold is traded on Sundays starting 10 PM GMT. I can notice this because in the last few rows Sunday 7.14.2019 is not included in the btc data set. So I decided to inspect the shape of each data set."
   ]
  },
  {
   "cell_type": "code",
   "execution_count": 15,
   "metadata": {},
   "outputs": [
    {
     "name": "stdout",
     "output_type": "stream",
     "text": [
      "149\n"
     ]
    }
   ],
   "source": [
    "count_row = btc2.shape[0]\n",
    "print (count_row)"
   ]
  },
  {
   "cell_type": "code",
   "execution_count": 16,
   "metadata": {},
   "outputs": [
    {
     "name": "stdout",
     "output_type": "stream",
     "text": [
      "171\n"
     ]
    }
   ],
   "source": [
    "count_row1 = gold2.shape[0]\n",
    "print (count_row1)"
   ]
  },
  {
   "cell_type": "markdown",
   "metadata": {},
   "source": [
    "#### I decide to remove Sundays from the gold data set as well."
   ]
  },
  {
   "cell_type": "code",
   "execution_count": 17,
   "metadata": {},
   "outputs": [
    {
     "data": {
      "text/html": [
       "<div>\n",
       "<style scoped>\n",
       "    .dataframe tbody tr th:only-of-type {\n",
       "        vertical-align: middle;\n",
       "    }\n",
       "\n",
       "    .dataframe tbody tr th {\n",
       "        vertical-align: top;\n",
       "    }\n",
       "\n",
       "    .dataframe thead th {\n",
       "        text-align: right;\n",
       "    }\n",
       "</style>\n",
       "<table border=\"1\" class=\"dataframe\">\n",
       "  <thead>\n",
       "    <tr style=\"text-align: right;\">\n",
       "      <th></th>\n",
       "      <th>Open</th>\n",
       "      <th>High</th>\n",
       "      <th>Low</th>\n",
       "      <th>Close</th>\n",
       "      <th>Adj Close</th>\n",
       "      <th>Volume</th>\n",
       "    </tr>\n",
       "    <tr>\n",
       "      <th>Date</th>\n",
       "      <th></th>\n",
       "      <th></th>\n",
       "      <th></th>\n",
       "      <th></th>\n",
       "      <th></th>\n",
       "      <th></th>\n",
       "    </tr>\n",
       "  </thead>\n",
       "  <tbody>\n",
       "    <tr>\n",
       "      <th>2019-01-02</th>\n",
       "      <td>1286.1</td>\n",
       "      <td>1292.4</td>\n",
       "      <td>1280.6</td>\n",
       "      <td>1288.0</td>\n",
       "      <td>1288.0</td>\n",
       "      <td>117161644</td>\n",
       "    </tr>\n",
       "    <tr>\n",
       "      <th>2019-01-03</th>\n",
       "      <td>1290.3</td>\n",
       "      <td>1297.3</td>\n",
       "      <td>1286.4</td>\n",
       "      <td>1296.8</td>\n",
       "      <td>1296.8</td>\n",
       "      <td>126026410</td>\n",
       "    </tr>\n",
       "    <tr>\n",
       "      <th>2019-01-04</th>\n",
       "      <td>1296.2</td>\n",
       "      <td>1298.1</td>\n",
       "      <td>1278.1</td>\n",
       "      <td>1286.2</td>\n",
       "      <td>1286.2</td>\n",
       "      <td>163584509</td>\n",
       "    </tr>\n",
       "    <tr>\n",
       "      <th>2019-01-07</th>\n",
       "      <td>1290.2</td>\n",
       "      <td>1297.0</td>\n",
       "      <td>1287.3</td>\n",
       "      <td>1290.2</td>\n",
       "      <td>1290.2</td>\n",
       "      <td>115068369</td>\n",
       "    </tr>\n",
       "    <tr>\n",
       "      <th>2019-01-08</th>\n",
       "      <td>1283.9</td>\n",
       "      <td>1288.4</td>\n",
       "      <td>1280.2</td>\n",
       "      <td>1285.8</td>\n",
       "      <td>1285.8</td>\n",
       "      <td>120716675</td>\n",
       "    </tr>\n",
       "  </tbody>\n",
       "</table>\n",
       "</div>"
      ],
      "text/plain": [
       "              Open    High     Low   Close  Adj Close     Volume\n",
       "Date                                                            \n",
       "2019-01-02  1286.1  1292.4  1280.6  1288.0     1288.0  117161644\n",
       "2019-01-03  1290.3  1297.3  1286.4  1296.8     1296.8  126026410\n",
       "2019-01-04  1296.2  1298.1  1278.1  1286.2     1286.2  163584509\n",
       "2019-01-07  1290.2  1297.0  1287.3  1290.2     1290.2  115068369\n",
       "2019-01-08  1283.9  1288.4  1280.2  1285.8     1285.8  120716675"
      ]
     },
     "execution_count": 17,
     "metadata": {},
     "output_type": "execute_result"
    }
   ],
   "source": [
    "gold3=gold2[gold2.index.dayofweek <5]\n",
    "gold3.head()"
   ]
  },
  {
   "cell_type": "code",
   "execution_count": 18,
   "metadata": {},
   "outputs": [
    {
     "data": {
      "text/html": [
       "<div>\n",
       "<style scoped>\n",
       "    .dataframe tbody tr th:only-of-type {\n",
       "        vertical-align: middle;\n",
       "    }\n",
       "\n",
       "    .dataframe tbody tr th {\n",
       "        vertical-align: top;\n",
       "    }\n",
       "\n",
       "    .dataframe thead th {\n",
       "        text-align: right;\n",
       "    }\n",
       "</style>\n",
       "<table border=\"1\" class=\"dataframe\">\n",
       "  <thead>\n",
       "    <tr style=\"text-align: right;\">\n",
       "      <th></th>\n",
       "      <th>Open</th>\n",
       "      <th>High</th>\n",
       "      <th>Low</th>\n",
       "      <th>Close</th>\n",
       "      <th>Adj Close</th>\n",
       "      <th>Volume</th>\n",
       "    </tr>\n",
       "    <tr>\n",
       "      <th>Date</th>\n",
       "      <th></th>\n",
       "      <th></th>\n",
       "      <th></th>\n",
       "      <th></th>\n",
       "      <th></th>\n",
       "      <th></th>\n",
       "    </tr>\n",
       "  </thead>\n",
       "  <tbody>\n",
       "    <tr>\n",
       "      <th>2019-07-19</th>\n",
       "      <td>1444.5</td>\n",
       "      <td>1445.3</td>\n",
       "      <td>1421.1</td>\n",
       "      <td>1426.5</td>\n",
       "      <td>1426.5</td>\n",
       "      <td>273685337</td>\n",
       "    </tr>\n",
       "    <tr>\n",
       "      <th>2019-07-22</th>\n",
       "      <td>1427.7</td>\n",
       "      <td>1430.8</td>\n",
       "      <td>1424.0</td>\n",
       "      <td>1424.5</td>\n",
       "      <td>1424.5</td>\n",
       "      <td>143551490</td>\n",
       "    </tr>\n",
       "    <tr>\n",
       "      <th>2019-07-23</th>\n",
       "      <td>1418.2</td>\n",
       "      <td>1431.1</td>\n",
       "      <td>1414.6</td>\n",
       "      <td>1417.1</td>\n",
       "      <td>1417.1</td>\n",
       "      <td>201962709</td>\n",
       "    </tr>\n",
       "    <tr>\n",
       "      <th>2019-07-24</th>\n",
       "      <td>1421.1</td>\n",
       "      <td>1430.0</td>\n",
       "      <td>1418.7</td>\n",
       "      <td>1425.2</td>\n",
       "      <td>1425.2</td>\n",
       "      <td>160276898</td>\n",
       "    </tr>\n",
       "    <tr>\n",
       "      <th>2019-07-25</th>\n",
       "      <td>1422.4</td>\n",
       "      <td>1434.1</td>\n",
       "      <td>1411.1</td>\n",
       "      <td>1415.3</td>\n",
       "      <td>1415.3</td>\n",
       "      <td>219691366</td>\n",
       "    </tr>\n",
       "  </tbody>\n",
       "</table>\n",
       "</div>"
      ],
      "text/plain": [
       "              Open    High     Low   Close  Adj Close     Volume\n",
       "Date                                                            \n",
       "2019-07-19  1444.5  1445.3  1421.1  1426.5     1426.5  273685337\n",
       "2019-07-22  1427.7  1430.8  1424.0  1424.5     1424.5  143551490\n",
       "2019-07-23  1418.2  1431.1  1414.6  1417.1     1417.1  201962709\n",
       "2019-07-24  1421.1  1430.0  1418.7  1425.2     1425.2  160276898\n",
       "2019-07-25  1422.4  1434.1  1411.1  1415.3     1415.3  219691366"
      ]
     },
     "execution_count": 18,
     "metadata": {},
     "output_type": "execute_result"
    }
   ],
   "source": [
    "gold3.tail()"
   ]
  },
  {
   "cell_type": "markdown",
   "metadata": {},
   "source": [
    "## Data Exploration & Preliminary Visualization "
   ]
  },
  {
   "cell_type": "markdown",
   "metadata": {},
   "source": [
    "### BTC Price"
   ]
  },
  {
   "cell_type": "code",
   "execution_count": 19,
   "metadata": {},
   "outputs": [
    {
     "data": {
      "image/png": "[encoded data removed]",
      "text/plain": [
       "<Figure size 432x288 with 1 Axes>"
      ]
     },
     "metadata": {
      "needs_background": "light"
     },
     "output_type": "display_data"
    }
   ],
   "source": [
    "ax4 = btc2['Close'].plot(grid=True)\n",
    "ax4.yaxis.set_major_formatter(mpl.ticker.StrMethodFormatter('${x:,.0f}'))\n",
    "ax4.set_ylabel('Price in USD per BTC', position = (1000,0.5))\n",
    "plt.title('BTC Price Since JAN 2019')\n",
    "plt.show()"
   ]
  },
  {
   "cell_type": "markdown",
   "metadata": {},
   "source": [
    "#### It is clear from the 'BTC Price since JAN 2019' that there has been a steady, almost exponential price increase per BTC. The price has increased threefold since January. There is also a noticeable recent reversal of the upward trend. "
   ]
  },
  {
   "cell_type": "code",
   "execution_count": 20,
   "metadata": {
    "scrolled": true
   },
   "outputs": [
    {
     "data": {
      "text/html": [
       "<div>\n",
       "<style scoped>\n",
       "    .dataframe tbody tr th:only-of-type {\n",
       "        vertical-align: middle;\n",
       "    }\n",
       "\n",
       "    .dataframe tbody tr th {\n",
       "        vertical-align: top;\n",
       "    }\n",
       "\n",
       "    .dataframe thead th {\n",
       "        text-align: right;\n",
       "    }\n",
       "</style>\n",
       "<table border=\"1\" class=\"dataframe\">\n",
       "  <thead>\n",
       "    <tr style=\"text-align: right;\">\n",
       "      <th></th>\n",
       "      <th>Open</th>\n",
       "      <th>High</th>\n",
       "      <th>Low</th>\n",
       "      <th>Close</th>\n",
       "      <th>Adj Close</th>\n",
       "      <th>Volume</th>\n",
       "    </tr>\n",
       "  </thead>\n",
       "  <tbody>\n",
       "    <tr>\n",
       "      <th>count</th>\n",
       "      <td>149.000000</td>\n",
       "      <td>149.000000</td>\n",
       "      <td>149.000000</td>\n",
       "      <td>149.000000</td>\n",
       "      <td>149.000000</td>\n",
       "      <td>1.490000e+02</td>\n",
       "    </tr>\n",
       "    <tr>\n",
       "      <th>mean</th>\n",
       "      <td>6183.968905</td>\n",
       "      <td>6005.551838</td>\n",
       "      <td>6379.006134</td>\n",
       "      <td>6220.886877</td>\n",
       "      <td>6220.886877</td>\n",
       "      <td>3.741238e+10</td>\n",
       "    </tr>\n",
       "    <tr>\n",
       "      <th>std</th>\n",
       "      <td>2773.814259</td>\n",
       "      <td>2605.927047</td>\n",
       "      <td>2938.447906</td>\n",
       "      <td>2800.068759</td>\n",
       "      <td>2800.068759</td>\n",
       "      <td>3.244011e+10</td>\n",
       "    </tr>\n",
       "    <tr>\n",
       "      <th>min</th>\n",
       "      <td>3375.330300</td>\n",
       "      <td>3362.239500</td>\n",
       "      <td>3406.540000</td>\n",
       "      <td>3375.330300</td>\n",
       "      <td>3375.330300</td>\n",
       "      <td>0.000000e+00</td>\n",
       "    </tr>\n",
       "    <tr>\n",
       "      <th>25%</th>\n",
       "      <td>3874.890400</td>\n",
       "      <td>3804.979700</td>\n",
       "      <td>3916.290000</td>\n",
       "      <td>3874.890400</td>\n",
       "      <td>3874.890400</td>\n",
       "      <td>1.490058e+10</td>\n",
       "    </tr>\n",
       "    <tr>\n",
       "      <th>50%</th>\n",
       "      <td>5201.300800</td>\n",
       "      <td>5104.178700</td>\n",
       "      <td>5317.779800</td>\n",
       "      <td>5212.810100</td>\n",
       "      <td>5212.810100</td>\n",
       "      <td>2.314655e+10</td>\n",
       "    </tr>\n",
       "    <tr>\n",
       "      <th>75%</th>\n",
       "      <td>8193.141600</td>\n",
       "      <td>8027.209000</td>\n",
       "      <td>8352.251000</td>\n",
       "      <td>8183.828600</td>\n",
       "      <td>8183.828600</td>\n",
       "      <td>4.323353e+10</td>\n",
       "    </tr>\n",
       "    <tr>\n",
       "      <th>max</th>\n",
       "      <td>12913.273400</td>\n",
       "      <td>12117.304700</td>\n",
       "      <td>13826.764600</td>\n",
       "      <td>12913.273400</td>\n",
       "      <td>12913.273400</td>\n",
       "      <td>1.554955e+11</td>\n",
       "    </tr>\n",
       "  </tbody>\n",
       "</table>\n",
       "</div>"
      ],
      "text/plain": [
       "               Open          High           Low         Close     Adj Close  \\\n",
       "count    149.000000    149.000000    149.000000    149.000000    149.000000   \n",
       "mean    6183.968905   6005.551838   6379.006134   6220.886877   6220.886877   \n",
       "std     2773.814259   2605.927047   2938.447906   2800.068759   2800.068759   \n",
       "min     3375.330300   3362.239500   3406.540000   3375.330300   3375.330300   \n",
       "25%     3874.890400   3804.979700   3916.290000   3874.890400   3874.890400   \n",
       "50%     5201.300800   5104.178700   5317.779800   5212.810100   5212.810100   \n",
       "75%     8193.141600   8027.209000   8352.251000   8183.828600   8183.828600   \n",
       "max    12913.273400  12117.304700  13826.764600  12913.273400  12913.273400   \n",
       "\n",
       "             Volume  \n",
       "count  1.490000e+02  \n",
       "mean   3.741238e+10  \n",
       "std    3.244011e+10  \n",
       "min    0.000000e+00  \n",
       "25%    1.490058e+10  \n",
       "50%    2.314655e+10  \n",
       "75%    4.323353e+10  \n",
       "max    1.554955e+11  "
      ]
     },
     "execution_count": 20,
     "metadata": {},
     "output_type": "execute_result"
    }
   ],
   "source": [
    "btc2.describe()"
   ]
  },
  {
   "cell_type": "code",
   "execution_count": 21,
   "metadata": {},
   "outputs": [
    {
     "name": "stdout",
     "output_type": "stream",
     "text": [
      "Max Price is: $ 12913.2734\n",
      "Min Price is: $ 3375.3303\n"
     ]
    }
   ],
   "source": [
    "print ('Max Price is: $',btc2['Close'].max())\n",
    "print ('Min Price is: $',btc2['Close'].min())"
   ]
  },
  {
   "cell_type": "code",
   "execution_count": 22,
   "metadata": {},
   "outputs": [
    {
     "name": "stdout",
     "output_type": "stream",
     "text": [
      "2019-06-26\n",
      "2019-02-07\n"
     ]
    }
   ],
   "source": [
    "date_btcmax= btc2['Close'].idxmax() \n",
    "btc_max = date_btcmax.date()\n",
    "print (btc_max)\n",
    "\n",
    "date_btcmin=btc2['Close'].idxmin()\n",
    "btc_min = date_btcmin.date()\n",
    "print (btc_min)"
   ]
  },
  {
   "cell_type": "code",
   "execution_count": 23,
   "metadata": {},
   "outputs": [
    {
     "data": {
      "text/html": [
       "<div>\n",
       "<style scoped>\n",
       "    .dataframe tbody tr th:only-of-type {\n",
       "        vertical-align: middle;\n",
       "    }\n",
       "\n",
       "    .dataframe tbody tr th {\n",
       "        vertical-align: top;\n",
       "    }\n",
       "\n",
       "    .dataframe thead th {\n",
       "        text-align: right;\n",
       "    }\n",
       "</style>\n",
       "<table border=\"1\" class=\"dataframe\">\n",
       "  <thead>\n",
       "    <tr style=\"text-align: right;\">\n",
       "      <th></th>\n",
       "      <th>Open</th>\n",
       "      <th>High</th>\n",
       "      <th>Low</th>\n",
       "      <th>Close</th>\n",
       "      <th>Adj Close</th>\n",
       "      <th>Volume</th>\n",
       "      <th>Price_diff</th>\n",
       "    </tr>\n",
       "    <tr>\n",
       "      <th>Date</th>\n",
       "      <th></th>\n",
       "      <th></th>\n",
       "      <th></th>\n",
       "      <th></th>\n",
       "      <th></th>\n",
       "      <th></th>\n",
       "      <th></th>\n",
       "    </tr>\n",
       "  </thead>\n",
       "  <tbody>\n",
       "    <tr>\n",
       "      <th>2019-01-01</th>\n",
       "      <td>3747.3899</td>\n",
       "      <td>3696.9397</td>\n",
       "      <td>3938.7493</td>\n",
       "      <td>3880.1501</td>\n",
       "      <td>3880.1501</td>\n",
       "      <td>17059830700</td>\n",
       "      <td>NaN</td>\n",
       "    </tr>\n",
       "    <tr>\n",
       "      <th>2019-01-02</th>\n",
       "      <td>3880.1501</td>\n",
       "      <td>3826.2893</td>\n",
       "      <td>3989.5906</td>\n",
       "      <td>3961.0095</td>\n",
       "      <td>3961.0095</td>\n",
       "      <td>21085460300</td>\n",
       "      <td>80.8594</td>\n",
       "    </tr>\n",
       "    <tr>\n",
       "      <th>2019-01-03</th>\n",
       "      <td>3961.0095</td>\n",
       "      <td>3778.7595</td>\n",
       "      <td>3965.5208</td>\n",
       "      <td>3835.8604</td>\n",
       "      <td>3835.8604</td>\n",
       "      <td>17648807200</td>\n",
       "      <td>-125.1491</td>\n",
       "    </tr>\n",
       "    <tr>\n",
       "      <th>2019-01-04</th>\n",
       "      <td>3835.8604</td>\n",
       "      <td>3783.8801</td>\n",
       "      <td>3901.6501</td>\n",
       "      <td>3874.0603</td>\n",
       "      <td>3874.0603</td>\n",
       "      <td>17050761100</td>\n",
       "      <td>38.1999</td>\n",
       "    </tr>\n",
       "    <tr>\n",
       "      <th>2019-01-07</th>\n",
       "      <td>4102.8501</td>\n",
       "      <td>4001.3494</td>\n",
       "      <td>4132.6206</td>\n",
       "      <td>4050.4001</td>\n",
       "      <td>4050.4001</td>\n",
       "      <td>20928936800</td>\n",
       "      <td>176.3398</td>\n",
       "    </tr>\n",
       "  </tbody>\n",
       "</table>\n",
       "</div>"
      ],
      "text/plain": [
       "                 Open       High        Low      Close  Adj Close  \\\n",
       "Date                                                                \n",
       "2019-01-01  3747.3899  3696.9397  3938.7493  3880.1501  3880.1501   \n",
       "2019-01-02  3880.1501  3826.2893  3989.5906  3961.0095  3961.0095   \n",
       "2019-01-03  3961.0095  3778.7595  3965.5208  3835.8604  3835.8604   \n",
       "2019-01-04  3835.8604  3783.8801  3901.6501  3874.0603  3874.0603   \n",
       "2019-01-07  4102.8501  4001.3494  4132.6206  4050.4001  4050.4001   \n",
       "\n",
       "                 Volume  Price_diff  \n",
       "Date                                 \n",
       "2019-01-01  17059830700         NaN  \n",
       "2019-01-02  21085460300     80.8594  \n",
       "2019-01-03  17648807200   -125.1491  \n",
       "2019-01-04  17050761100     38.1999  \n",
       "2019-01-07  20928936800    176.3398  "
      ]
     },
     "execution_count": 23,
     "metadata": {},
     "output_type": "execute_result"
    }
   ],
   "source": [
    "btc2['Price_diff']=btc2['Close']-btc2['Close'].shift(1)\n",
    "btc2.head()"
   ]
  },
  {
   "cell_type": "code",
   "execution_count": 24,
   "metadata": {},
   "outputs": [
    {
     "data": {
      "text/plain": [
       "Timestamp('2019-06-21 00:00:00')"
      ]
     },
     "execution_count": 24,
     "metadata": {},
     "output_type": "execute_result"
    }
   ],
   "source": [
    "Threshold_10k = btc2[btc2['Close'] > 10000].index[0]\n",
    "Threshold_10k"
   ]
  },
  {
   "cell_type": "code",
   "execution_count": null,
   "metadata": {},
   "outputs": [],
   "source": []
  },
  {
   "cell_type": "code",
   "execution_count": 26,
   "metadata": {},
   "outputs": [
    {
     "data": {
      "image/png": "[encoded data removed]",
      "text/plain": [
       "<Figure size 432x288 with 1 Axes>"
      ]
     },
     "metadata": {
      "needs_background": "light"
     },
     "output_type": "display_data"
    }
   ],
   "source": [
    "ax4 = btc2['Close'].plot(grid=True)\n",
    "ax4.yaxis.set_major_formatter(mpl.ticker.StrMethodFormatter('${x:,.0f}'))\n",
    "ax4.set_ylabel('Price in USD per BTC', position = (1000,0.5))\n",
    "plt.title('BTC Price Since JAN 2019 (w/ High and Low)')\n",
    "plt.axvline(x= btc_max, color = 'r', linestyle = 'dashed', linewidth=1 )\n",
    "plt.axvline(x= btc_min, color = 'r', linestyle = 'dashed', linewidth=1 )\n",
    "plt.show()"
   ]
  },
  {
   "cell_type": "markdown",
   "metadata": {},
   "source": [
    "#### The lowest price in USD/ BTC was around \\$3,300, in the beginning of February of 2019.The highest price in USD/BTC is close to 13k, which was reached near the end of June. "
   ]
  },
  {
   "cell_type": "code",
   "execution_count": 27,
   "metadata": {},
   "outputs": [
    {
     "name": "stdout",
     "output_type": "stream",
     "text": [
      "Index(['Open', 'High', 'Low', 'Close', 'Adj Close', 'Volume', 'Price_diff'], dtype='object')\n"
     ]
    }
   ],
   "source": [
    "print(btc2.columns)"
   ]
  },
  {
   "cell_type": "code",
   "execution_count": 28,
   "metadata": {},
   "outputs": [
    {
     "name": "stdout",
     "output_type": "stream",
     "text": [
      "2019-07-01\n"
     ]
    }
   ],
   "source": [
    "date_diffmin=btc2['Price_diff'].idxmin()\n",
    "diff_min = date_diffmin.date()\n",
    "print (diff_min)"
   ]
  },
  {
   "cell_type": "code",
   "execution_count": 44,
   "metadata": {},
   "outputs": [
    {
     "data": {
      "image/png": "[encoded data removed]",
      "text/plain": [
       "<Figure size 432x288 with 1 Axes>"
      ]
     },
     "metadata": {
      "needs_background": "light"
     },
     "output_type": "display_data"
    }
   ],
   "source": [
    "ax4 = btc2['Close'].plot(grid=True)\n",
    "ax4.yaxis.set_major_formatter(mpl.ticker.StrMethodFormatter('${x:,.0f}'))\n",
    "ax4.set_ylabel('Price in USD per BTC', position = (1000,0.5))\n",
    "plt.title('BTC Price Since JAN 2019: Trend Reversal')\n",
    "plt.axvline(x= diff_min , color= 'm', linestyle= 'dashed', linewidth=1)\n",
    "plt.axhline(y = 10000, color= 'r', linestyle= 'dotted', linewidth=1, label = 'Biggest Loss/day')\n",
    "plt.axhline(y=btc2.Close.mean(), color = 'b', linestyle = 'dotted', linewidth=1, label = 'Mean')\n",
    "plt.legend()\n",
    "plt.show()"
   ]
  },
  {
   "cell_type": "code",
   "execution_count": 29,
   "metadata": {},
   "outputs": [
    {
     "data": {
      "image/png": "[encoded data removed]",
      "text/plain": [
       "<Figure size 432x288 with 1 Axes>"
      ]
     },
     "metadata": {
      "needs_background": "light"
     },
     "output_type": "display_data"
    }
   ],
   "source": [
    "ax4 = btc2['Close'].plot(grid=True)\n",
    "ax4.yaxis.set_major_formatter(mpl.ticker.StrMethodFormatter('${x:,.0f}'))\n",
    "ax4.set_ylabel('Price in USD per BTC', position = (1000,0.5))\n",
    "plt.title('BTC Price Since JAN 2019: Trend Reversal')\n",
    "plt.axvline(x= '2019-07-16', color= 'm', linestyle= 'dashed', linewidth=1)\n",
    "plt.axhline(y = 10000, color= 'r', linestyle= 'dotted', linewidth=1, label = 'Threshold($10,000)')\n",
    "plt.axhline(y=btc2.Close.mean(), color = 'b', linestyle = 'dotted', linewidth=1, label = 'Mean')\n",
    "plt.legend()\n",
    "plt.show()"
   ]
  },
  {
   "cell_type": "markdown",
   "metadata": {},
   "source": [
    "#### We see an oscillation of the price trend in the first two weeks of July, with the reversal of the upward trend mid-July, where the price fell starkly reaching below $10,000."
   ]
  },
  {
   "cell_type": "markdown",
   "metadata": {},
   "source": [
    "### Gold Price"
   ]
  },
  {
   "cell_type": "code",
   "execution_count": 30,
   "metadata": {},
   "outputs": [
    {
     "data": {
      "image/png": "[encoded data removed]",
      "text/plain": [
       "<Figure size 432x288 with 1 Axes>"
      ]
     },
     "metadata": {
      "needs_background": "light"
     },
     "output_type": "display_data"
    }
   ],
   "source": [
    "ax3 = gold3['Close'].plot(grid=True)\n",
    "ax3.yaxis.set_major_formatter(mpl.ticker.StrMethodFormatter('${x:,.0f}'))\n",
    "ax3.set_ylabel('Price in USD per Oz', position = (1000,0.5))\n",
    "plt.title('GOLD Price Since JAN 2019')\n",
    "plt.axhline(y= 1350, color ='r', linestyle='dotted', linewidth=1, label = 'Threshold ($1,350)')\n",
    "plt.axhline(y=gold3.Close.mean(),color ='m', linestyle='dotted', linewidth=1, label = 'Mean')\n",
    "plt.legend()\n",
    "plt.show()"
   ]
  },
  {
   "cell_type": "markdown",
   "metadata": {},
   "source": [
    "#### We can see in 'GOLD Price since JAN 2019' that the price of GOLD was oscillating below $1,350 for the first part of the year."
   ]
  },
  {
   "cell_type": "code",
   "execution_count": 31,
   "metadata": {},
   "outputs": [
    {
     "data": {
      "text/html": [
       "<div>\n",
       "<style scoped>\n",
       "    .dataframe tbody tr th:only-of-type {\n",
       "        vertical-align: middle;\n",
       "    }\n",
       "\n",
       "    .dataframe tbody tr th {\n",
       "        vertical-align: top;\n",
       "    }\n",
       "\n",
       "    .dataframe thead th {\n",
       "        text-align: right;\n",
       "    }\n",
       "</style>\n",
       "<table border=\"1\" class=\"dataframe\">\n",
       "  <thead>\n",
       "    <tr style=\"text-align: right;\">\n",
       "      <th></th>\n",
       "      <th>Open</th>\n",
       "      <th>High</th>\n",
       "      <th>Low</th>\n",
       "      <th>Close</th>\n",
       "      <th>Adj Close</th>\n",
       "      <th>Volume</th>\n",
       "    </tr>\n",
       "  </thead>\n",
       "  <tbody>\n",
       "    <tr>\n",
       "      <th>count</th>\n",
       "      <td>142.000000</td>\n",
       "      <td>142.000000</td>\n",
       "      <td>142.000000</td>\n",
       "      <td>142.000000</td>\n",
       "      <td>142.000000</td>\n",
       "      <td>1.420000e+02</td>\n",
       "    </tr>\n",
       "    <tr>\n",
       "      <th>mean</th>\n",
       "      <td>1311.440141</td>\n",
       "      <td>1327.938028</td>\n",
       "      <td>1305.430986</td>\n",
       "      <td>1322.243662</td>\n",
       "      <td>1322.243662</td>\n",
       "      <td>1.375924e+08</td>\n",
       "    </tr>\n",
       "    <tr>\n",
       "      <th>std</th>\n",
       "      <td>119.999365</td>\n",
       "      <td>48.452919</td>\n",
       "      <td>118.983015</td>\n",
       "      <td>46.908864</td>\n",
       "      <td>46.908864</td>\n",
       "      <td>5.047198e+07</td>\n",
       "    </tr>\n",
       "    <tr>\n",
       "      <th>min</th>\n",
       "      <td>0.000000</td>\n",
       "      <td>1275.900000</td>\n",
       "      <td>0.000000</td>\n",
       "      <td>1271.900000</td>\n",
       "      <td>1271.900000</td>\n",
       "      <td>3.762840e+07</td>\n",
       "    </tr>\n",
       "    <tr>\n",
       "      <th>25%</th>\n",
       "      <td>1287.925000</td>\n",
       "      <td>1292.875000</td>\n",
       "      <td>1281.075000</td>\n",
       "      <td>1288.050000</td>\n",
       "      <td>1288.050000</td>\n",
       "      <td>1.099841e+08</td>\n",
       "    </tr>\n",
       "    <tr>\n",
       "      <th>50%</th>\n",
       "      <td>1303.850000</td>\n",
       "      <td>1311.200000</td>\n",
       "      <td>1297.450000</td>\n",
       "      <td>1304.850000</td>\n",
       "      <td>1304.850000</td>\n",
       "      <td>1.272594e+08</td>\n",
       "    </tr>\n",
       "    <tr>\n",
       "      <th>75%</th>\n",
       "      <td>1333.050000</td>\n",
       "      <td>1343.350000</td>\n",
       "      <td>1326.950000</td>\n",
       "      <td>1336.250000</td>\n",
       "      <td>1336.250000</td>\n",
       "      <td>1.513497e+08</td>\n",
       "    </tr>\n",
       "    <tr>\n",
       "      <th>max</th>\n",
       "      <td>1444.500000</td>\n",
       "      <td>1454.400000</td>\n",
       "      <td>1424.000000</td>\n",
       "      <td>1444.900000</td>\n",
       "      <td>1444.900000</td>\n",
       "      <td>3.439746e+08</td>\n",
       "    </tr>\n",
       "  </tbody>\n",
       "</table>\n",
       "</div>"
      ],
      "text/plain": [
       "              Open         High          Low        Close    Adj Close  \\\n",
       "count   142.000000   142.000000   142.000000   142.000000   142.000000   \n",
       "mean   1311.440141  1327.938028  1305.430986  1322.243662  1322.243662   \n",
       "std     119.999365    48.452919   118.983015    46.908864    46.908864   \n",
       "min       0.000000  1275.900000     0.000000  1271.900000  1271.900000   \n",
       "25%    1287.925000  1292.875000  1281.075000  1288.050000  1288.050000   \n",
       "50%    1303.850000  1311.200000  1297.450000  1304.850000  1304.850000   \n",
       "75%    1333.050000  1343.350000  1326.950000  1336.250000  1336.250000   \n",
       "max    1444.500000  1454.400000  1424.000000  1444.900000  1444.900000   \n",
       "\n",
       "             Volume  \n",
       "count  1.420000e+02  \n",
       "mean   1.375924e+08  \n",
       "std    5.047198e+07  \n",
       "min    3.762840e+07  \n",
       "25%    1.099841e+08  \n",
       "50%    1.272594e+08  \n",
       "75%    1.513497e+08  \n",
       "max    3.439746e+08  "
      ]
     },
     "execution_count": 31,
     "metadata": {},
     "output_type": "execute_result"
    }
   ],
   "source": [
    "gold3.describe()"
   ]
  },
  {
   "cell_type": "code",
   "execution_count": 32,
   "metadata": {},
   "outputs": [
    {
     "name": "stdout",
     "output_type": "stream",
     "text": [
      "Max Price is: $ 1444.9\n",
      "Min Price is: $ 1271.9\n"
     ]
    }
   ],
   "source": [
    "print ('Max Price is: $',gold3['Close'].max())\n",
    "print ('Min Price is: $',gold3['Close'].min())"
   ]
  },
  {
   "cell_type": "code",
   "execution_count": 38,
   "metadata": {},
   "outputs": [
    {
     "name": "stdout",
     "output_type": "stream",
     "text": [
      "2019-07-18\n",
      "2019-05-02\n"
     ]
    }
   ],
   "source": [
    "date_gldmax= gold3['Close'].idxmax() \n",
    "gld_max = date_gldmax.date()\n",
    "print (gld_max)\n",
    "\n",
    "date_gldmin=gold3['Close'].idxmin()\n",
    "gld_min = date_gldmin.date()\n",
    "print (gld_min)"
   ]
  },
  {
   "cell_type": "code",
   "execution_count": 33,
   "metadata": {},
   "outputs": [
    {
     "name": "stdout",
     "output_type": "stream",
     "text": [
      "2019-06-19 00:00:00\n"
     ]
    },
    {
     "data": {
      "text/plain": [
       "pandas._libs.tslibs.timestamps.Timestamp"
      ]
     },
     "execution_count": 33,
     "metadata": {},
     "output_type": "execute_result"
    }
   ],
   "source": [
    "date1_gld = gold3[gold3['Close']> 1350].index[0]\n",
    "print (date1_gld)\n",
    "type(date1_gld)"
   ]
  },
  {
   "cell_type": "code",
   "execution_count": 34,
   "metadata": {},
   "outputs": [
    {
     "data": {
      "text/plain": [
       "datetime.datetime(2019, 6, 19, 0, 0)"
      ]
     },
     "execution_count": 34,
     "metadata": {},
     "output_type": "execute_result"
    }
   ],
   "source": [
    "date1_gld.to_pydatetime()"
   ]
  },
  {
   "cell_type": "code",
   "execution_count": 35,
   "metadata": {},
   "outputs": [
    {
     "data": {
      "text/plain": [
       "datetime.date(2019, 6, 19)"
      ]
     },
     "execution_count": 35,
     "metadata": {},
     "output_type": "execute_result"
    }
   ],
   "source": [
    "date2_gld = date1_gld.date()\n",
    "date2_gld"
   ]
  },
  {
   "cell_type": "code",
   "execution_count": 36,
   "metadata": {},
   "outputs": [
    {
     "data": {
      "text/plain": [
       "'2019-06-19'"
      ]
     },
     "execution_count": 36,
     "metadata": {},
     "output_type": "execute_result"
    }
   ],
   "source": [
    "date2_gld.strftime(\"%Y-%m-%d\")"
   ]
  },
  {
   "cell_type": "code",
   "execution_count": 39,
   "metadata": {},
   "outputs": [
    {
     "data": {
      "image/png": "[encoded data removed]",
      "text/plain": [
       "<Figure size 432x288 with 1 Axes>"
      ]
     },
     "metadata": {
      "needs_background": "light"
     },
     "output_type": "display_data"
    }
   ],
   "source": [
    "ax4 = gold3['Close'].plot(grid=True)\n",
    "ax4.yaxis.set_major_formatter(mpl.ticker.StrMethodFormatter('${x:,.0f}'))\n",
    "ax4.set_ylabel('Price in USD per Oz of GOLD', position = (1000,0.5))\n",
    "plt.title('GOLD Price Since JAN 2019 (w/ High and Low)')\n",
    "plt.axvline(x= gld_max, color = 'r', linestyle = 'dashed', linewidth=1 , label = 'High')\n",
    "plt.axvline(x= gld_min , color = 'b', linestyle = 'dashed', linewidth=1, label = 'low' )\n",
    "plt.axvline(x=date2_gld, color = 'm', linestyle = 'dashed', linewidth=1, label = 'Breaking Threshold')\n",
    "plt.legend()\n",
    "plt.show()"
   ]
  },
  {
   "cell_type": "markdown",
   "metadata": {},
   "source": [
    "#### The lowest price in USD/ Gold was around  \\$1,270, in the beginning of May of 2019.The highest price in USD/BTC is above \\$14k, which was reached recently in the second half of July. The stark increase above \\$1,350 started in the second half of June."
   ]
  },
  {
   "cell_type": "markdown",
   "metadata": {},
   "source": [
    "## Comparative Price Analysis "
   ]
  },
  {
   "cell_type": "markdown",
   "metadata": {},
   "source": [
    "#### To compare prices from both, I plotted the data on the same graph."
   ]
  },
  {
   "cell_type": "code",
   "execution_count": 40,
   "metadata": {},
   "outputs": [
    {
     "data": {
      "image/png": "[encoded data removed]",
      "text/plain": [
       "<Figure size 864x360 with 2 Axes>"
      ]
     },
     "metadata": {
      "needs_background": "light"
     },
     "output_type": "display_data"
    }
   ],
   "source": [
    "plt.figure(figsize=(12,5))\n",
    "plt.xlabel('Price in USD')\n",
    "\n",
    "ax1 = btc2.Close.plot(color='red', grid=True, label='BTC')\n",
    "ax2 = gold3.Close.plot(color='blue', grid=True, secondary_y=True, label='Gold')\n",
    "\n",
    "\n",
    "ax1.legend(bbox_to_anchor=(0.05, 0.9), loc=3, borderaxespad=0.2)\n",
    "ax2.legend(bbox_to_anchor=(0.05, 0.9), loc=2, borderaxespad=0.2)\n",
    "\n",
    "ax1.set_ylabel('Price in USD per BTC', position = (1000,0.5))\n",
    "ax1.tick_params(axis='y', colors='red')\n",
    "ax1.yaxis.label.set_color('red')\n",
    "\n",
    "#can't move y-label horizontally, ask mentor\n",
    "ax2.set_ylabel('Price in USD per Oz', position = (10000,0.5))\n",
    "ax2.tick_params(axis='y', colors='blue')\n",
    "ax2.yaxis.label.set_color('blue')\n",
    "\n",
    "ax1.yaxis.set_major_formatter(mpl.ticker.StrMethodFormatter('${x:,.0f}'))\n",
    "ax2.yaxis.set_major_formatter(mpl.ticker.StrMethodFormatter('${x:,.0f}'))\n",
    "\n",
    "plt.title('Comparative Price in USD for BTC and GOLD')\n",
    "\n",
    "plt.show()"
   ]
  },
  {
   "cell_type": "markdown",
   "metadata": {},
   "source": [
    "I was also curious in comparing the trading volume of both"
   ]
  },
  {
   "cell_type": "code",
   "execution_count": 41,
   "metadata": {},
   "outputs": [
    {
     "data": {
      "image/png": "[encoded data removed]",
      "text/plain": [
       "<Figure size 864x360 with 2 Axes>"
      ]
     },
     "metadata": {
      "needs_background": "light"
     },
     "output_type": "display_data"
    }
   ],
   "source": [
    "plt.figure(figsize=(12,5))\n",
    "plt.xlabel('Price in USD')\n",
    "\n",
    "ax1 = btc2.Volume.plot(color='red', grid=True, label='BTC')\n",
    "ax2 = gold3.Volume.plot(color='blue', grid=True, secondary_y=True, label='Gold')\n",
    "\n",
    "ax1.legend(bbox_to_anchor=(0.05, 0.9), loc=3, borderaxespad=0.2)\n",
    "ax2.legend(bbox_to_anchor=(0.05, 0.9), loc=2, borderaxespad=0.2)\n",
    "\n",
    "ax1.set_ylabel('BTC Volume', position = (1000,0.5))\n",
    "ax1.tick_params(axis='y', colors='red')\n",
    "ax1.yaxis.label.set_color('red')\n",
    "\n",
    "#can't move y-label horizontally, ask mentor\n",
    "ax2.set_ylabel('Gold Volume', position = (10000,0.5))\n",
    "ax2.tick_params(axis='y', colors='blue')\n",
    "ax2.yaxis.label.set_color('blue')\n",
    "\n",
    "plt.title('Comparative Volume for BTC and GOLD')\n",
    "\n",
    "plt.show()"
   ]
  },
  {
   "cell_type": "markdown",
   "metadata": {},
   "source": [
    "#### The trend in volumne is rather standard for both assets, rising prices are accompanied by increased trading volumes. "
   ]
  },
  {
   "cell_type": "markdown",
   "metadata": {},
   "source": [
    "## Price Volatility"
   ]
  },
  {
   "cell_type": "markdown",
   "metadata": {},
   "source": [
    "#### BTC price if known to be exponentially more volatile than Gold. A quick measure of volatility is looking at variance through standard deviation. This bascially tells how how far the price deviates from the mean."
   ]
  },
  {
   "cell_type": "code",
   "execution_count": 44,
   "metadata": {},
   "outputs": [
    {
     "name": "stdout",
     "output_type": "stream",
     "text": [
      "BTC Price Volatility: $ 2790\n",
      "Gold Price Volatility: $ 46\n"
     ]
    }
   ],
   "source": [
    "btc_p= np.std(btc2['Close'])\n",
    "gold_p=np.std(gold3['Close'])\n",
    "print ('BTC Price Volatility: $', int (btc_p))\n",
    "print ('Gold Price Volatility: $', int (gold_p))"
   ]
  },
  {
   "cell_type": "markdown",
   "metadata": {},
   "source": [
    "ARCH Model"
   ]
  },
  {
   "cell_type": "code",
   "execution_count": 267,
   "metadata": {},
   "outputs": [],
   "source": [
    "##apply in time series section "
   ]
  },
  {
   "cell_type": "markdown",
   "metadata": {},
   "source": [
    "GARCH Model"
   ]
  },
  {
   "cell_type": "code",
   "execution_count": 268,
   "metadata": {},
   "outputs": [],
   "source": [
    "##apply in time series section"
   ]
  },
  {
   "cell_type": "markdown",
   "metadata": {},
   "source": [
    "## Rate of Return"
   ]
  },
  {
   "cell_type": "markdown",
   "metadata": {},
   "source": [
    "r=pt/p0−1=pt−p0/p0"
   ]
  },
  {
   "cell_type": "code",
   "execution_count": 45,
   "metadata": {},
   "outputs": [
    {
     "data": {
      "text/html": [
       "<div>\n",
       "<style scoped>\n",
       "    .dataframe tbody tr th:only-of-type {\n",
       "        vertical-align: middle;\n",
       "    }\n",
       "\n",
       "    .dataframe tbody tr th {\n",
       "        vertical-align: top;\n",
       "    }\n",
       "\n",
       "    .dataframe thead th {\n",
       "        text-align: right;\n",
       "    }\n",
       "</style>\n",
       "<table border=\"1\" class=\"dataframe\">\n",
       "  <thead>\n",
       "    <tr style=\"text-align: right;\">\n",
       "      <th></th>\n",
       "      <th>Open</th>\n",
       "      <th>High</th>\n",
       "      <th>Low</th>\n",
       "      <th>Close</th>\n",
       "      <th>Adj Close</th>\n",
       "      <th>Volume</th>\n",
       "      <th>Price_diff</th>\n",
       "      <th>Daily_Return</th>\n",
       "      <th>Daily_Return_%</th>\n",
       "      <th>Cumulative Return</th>\n",
       "      <th>Cumulative Return Compounded</th>\n",
       "    </tr>\n",
       "    <tr>\n",
       "      <th>Date</th>\n",
       "      <th></th>\n",
       "      <th></th>\n",
       "      <th></th>\n",
       "      <th></th>\n",
       "      <th></th>\n",
       "      <th></th>\n",
       "      <th></th>\n",
       "      <th></th>\n",
       "      <th></th>\n",
       "      <th></th>\n",
       "      <th></th>\n",
       "    </tr>\n",
       "  </thead>\n",
       "  <tbody>\n",
       "    <tr>\n",
       "      <th>2019-01-01</th>\n",
       "      <td>3747.3899</td>\n",
       "      <td>3696.9397</td>\n",
       "      <td>3938.7493</td>\n",
       "      <td>3880.1501</td>\n",
       "      <td>3880.1501</td>\n",
       "      <td>17059830700</td>\n",
       "      <td>NaN</td>\n",
       "      <td>NaN</td>\n",
       "      <td>NaN</td>\n",
       "      <td>NaN</td>\n",
       "      <td>NaN</td>\n",
       "    </tr>\n",
       "    <tr>\n",
       "      <th>2019-01-02</th>\n",
       "      <td>3880.1501</td>\n",
       "      <td>3826.2893</td>\n",
       "      <td>3989.5906</td>\n",
       "      <td>3961.0095</td>\n",
       "      <td>3961.0095</td>\n",
       "      <td>21085460300</td>\n",
       "      <td>80.8594</td>\n",
       "      <td>0.020839</td>\n",
       "      <td>0.020839</td>\n",
       "      <td>0.020839</td>\n",
       "      <td>1.020839</td>\n",
       "    </tr>\n",
       "    <tr>\n",
       "      <th>2019-01-03</th>\n",
       "      <td>3961.0095</td>\n",
       "      <td>3778.7595</td>\n",
       "      <td>3965.5208</td>\n",
       "      <td>3835.8604</td>\n",
       "      <td>3835.8604</td>\n",
       "      <td>17648807200</td>\n",
       "      <td>-125.1491</td>\n",
       "      <td>-0.031595</td>\n",
       "      <td>-0.031595</td>\n",
       "      <td>-0.010756</td>\n",
       "      <td>0.988586</td>\n",
       "    </tr>\n",
       "    <tr>\n",
       "      <th>2019-01-04</th>\n",
       "      <td>3835.8604</td>\n",
       "      <td>3783.8801</td>\n",
       "      <td>3901.6501</td>\n",
       "      <td>3874.0603</td>\n",
       "      <td>3874.0603</td>\n",
       "      <td>17050761100</td>\n",
       "      <td>38.1999</td>\n",
       "      <td>0.009959</td>\n",
       "      <td>0.009959</td>\n",
       "      <td>-0.000797</td>\n",
       "      <td>0.998431</td>\n",
       "    </tr>\n",
       "    <tr>\n",
       "      <th>2019-01-07</th>\n",
       "      <td>4102.8501</td>\n",
       "      <td>4001.3494</td>\n",
       "      <td>4132.6206</td>\n",
       "      <td>4050.4001</td>\n",
       "      <td>4050.4001</td>\n",
       "      <td>20928936800</td>\n",
       "      <td>176.3398</td>\n",
       "      <td>0.045518</td>\n",
       "      <td>0.045518</td>\n",
       "      <td>0.044721</td>\n",
       "      <td>1.043877</td>\n",
       "    </tr>\n",
       "  </tbody>\n",
       "</table>\n",
       "</div>"
      ],
      "text/plain": [
       "                 Open       High        Low      Close  Adj Close  \\\n",
       "Date                                                                \n",
       "2019-01-01  3747.3899  3696.9397  3938.7493  3880.1501  3880.1501   \n",
       "2019-01-02  3880.1501  3826.2893  3989.5906  3961.0095  3961.0095   \n",
       "2019-01-03  3961.0095  3778.7595  3965.5208  3835.8604  3835.8604   \n",
       "2019-01-04  3835.8604  3783.8801  3901.6501  3874.0603  3874.0603   \n",
       "2019-01-07  4102.8501  4001.3494  4132.6206  4050.4001  4050.4001   \n",
       "\n",
       "                 Volume  Price_diff  Daily_Return  Daily_Return_%  \\\n",
       "Date                                                                \n",
       "2019-01-01  17059830700         NaN           NaN             NaN   \n",
       "2019-01-02  21085460300     80.8594      0.020839        0.020839   \n",
       "2019-01-03  17648807200   -125.1491     -0.031595       -0.031595   \n",
       "2019-01-04  17050761100     38.1999      0.009959        0.009959   \n",
       "2019-01-07  20928936800    176.3398      0.045518        0.045518   \n",
       "\n",
       "            Cumulative Return  Cumulative Return Compounded  \n",
       "Date                                                         \n",
       "2019-01-01                NaN                           NaN  \n",
       "2019-01-02           0.020839                      1.020839  \n",
       "2019-01-03          -0.010756                      0.988586  \n",
       "2019-01-04          -0.000797                      0.998431  \n",
       "2019-01-07           0.044721                      1.043877  "
      ]
     },
     "execution_count": 45,
     "metadata": {},
     "output_type": "execute_result"
    }
   ],
   "source": [
    "btc2['Daily_Return']=btc2['Close']/btc2['Close'].shift(1)-1\n",
    "btc2['Daily_Return_%']=btc2['Close'].pct_change(1)\n",
    "btc2['Cumulative Return'] = np.cumsum(btc2['Daily_Return'])\n",
    "btc2['Cumulative Return Compounded'] = (1+btc2['Daily_Return']).cumprod()\n",
    "btc2.head()"
   ]
  },
  {
   "cell_type": "code",
   "execution_count": 46,
   "metadata": {},
   "outputs": [
    {
     "data": {
      "text/html": [
       "<div>\n",
       "<style scoped>\n",
       "    .dataframe tbody tr th:only-of-type {\n",
       "        vertical-align: middle;\n",
       "    }\n",
       "\n",
       "    .dataframe tbody tr th {\n",
       "        vertical-align: top;\n",
       "    }\n",
       "\n",
       "    .dataframe thead th {\n",
       "        text-align: right;\n",
       "    }\n",
       "</style>\n",
       "<table border=\"1\" class=\"dataframe\">\n",
       "  <thead>\n",
       "    <tr style=\"text-align: right;\">\n",
       "      <th></th>\n",
       "      <th>Open</th>\n",
       "      <th>High</th>\n",
       "      <th>Low</th>\n",
       "      <th>Close</th>\n",
       "      <th>Adj Close</th>\n",
       "      <th>Volume</th>\n",
       "      <th>Price_diff</th>\n",
       "      <th>Daily_Return</th>\n",
       "      <th>Daily_Return_%</th>\n",
       "      <th>Cumulative Return</th>\n",
       "      <th>Cumulative Return Compounded</th>\n",
       "    </tr>\n",
       "    <tr>\n",
       "      <th>Date</th>\n",
       "      <th></th>\n",
       "      <th></th>\n",
       "      <th></th>\n",
       "      <th></th>\n",
       "      <th></th>\n",
       "      <th></th>\n",
       "      <th></th>\n",
       "      <th></th>\n",
       "      <th></th>\n",
       "      <th></th>\n",
       "      <th></th>\n",
       "    </tr>\n",
       "  </thead>\n",
       "  <tbody>\n",
       "    <tr>\n",
       "      <th>2019-07-22</th>\n",
       "      <td>10586.7051</td>\n",
       "      <td>10072.0654</td>\n",
       "      <td>10676.5977</td>\n",
       "      <td>10325.8740</td>\n",
       "      <td>10325.8740</td>\n",
       "      <td>52444285200</td>\n",
       "      <td>-207.0615</td>\n",
       "      <td>-0.019658</td>\n",
       "      <td>-0.019658</td>\n",
       "      <td>1.142808</td>\n",
       "      <td>2.661205</td>\n",
       "    </tr>\n",
       "    <tr>\n",
       "      <th>2019-07-23</th>\n",
       "      <td>10325.8740</td>\n",
       "      <td>9820.6074</td>\n",
       "      <td>10328.4453</td>\n",
       "      <td>9854.1484</td>\n",
       "      <td>9854.1484</td>\n",
       "      <td>52943812400</td>\n",
       "      <td>-471.7256</td>\n",
       "      <td>-0.045684</td>\n",
       "      <td>-0.045684</td>\n",
       "      <td>1.097124</td>\n",
       "      <td>2.539631</td>\n",
       "    </tr>\n",
       "    <tr>\n",
       "      <th>2019-07-24</th>\n",
       "      <td>9854.1484</td>\n",
       "      <td>9535.7793</td>\n",
       "      <td>9920.5361</td>\n",
       "      <td>9772.1426</td>\n",
       "      <td>9772.1426</td>\n",
       "      <td>53161190900</td>\n",
       "      <td>-82.0058</td>\n",
       "      <td>-0.008322</td>\n",
       "      <td>-0.008322</td>\n",
       "      <td>1.088802</td>\n",
       "      <td>2.518496</td>\n",
       "    </tr>\n",
       "    <tr>\n",
       "      <th>2019-07-25</th>\n",
       "      <td>9917.8096</td>\n",
       "      <td>9930.5000</td>\n",
       "      <td>9890.6406</td>\n",
       "      <td>9899.0898</td>\n",
       "      <td>9899.0898</td>\n",
       "      <td>0</td>\n",
       "      <td>126.9472</td>\n",
       "      <td>0.012991</td>\n",
       "      <td>0.012991</td>\n",
       "      <td>1.101793</td>\n",
       "      <td>2.551213</td>\n",
       "    </tr>\n",
       "    <tr>\n",
       "      <th>2019-07-26</th>\n",
       "      <td>9772.2305</td>\n",
       "      <td>10184.4297</td>\n",
       "      <td>9744.7002</td>\n",
       "      <td>9870.4004</td>\n",
       "      <td>9870.4004</td>\n",
       "      <td>0</td>\n",
       "      <td>-28.6894</td>\n",
       "      <td>-0.002898</td>\n",
       "      <td>-0.002898</td>\n",
       "      <td>1.098895</td>\n",
       "      <td>2.543819</td>\n",
       "    </tr>\n",
       "  </tbody>\n",
       "</table>\n",
       "</div>"
      ],
      "text/plain": [
       "                  Open        High         Low       Close   Adj Close  \\\n",
       "Date                                                                     \n",
       "2019-07-22  10586.7051  10072.0654  10676.5977  10325.8740  10325.8740   \n",
       "2019-07-23  10325.8740   9820.6074  10328.4453   9854.1484   9854.1484   \n",
       "2019-07-24   9854.1484   9535.7793   9920.5361   9772.1426   9772.1426   \n",
       "2019-07-25   9917.8096   9930.5000   9890.6406   9899.0898   9899.0898   \n",
       "2019-07-26   9772.2305  10184.4297   9744.7002   9870.4004   9870.4004   \n",
       "\n",
       "                 Volume  Price_diff  Daily_Return  Daily_Return_%  \\\n",
       "Date                                                                \n",
       "2019-07-22  52444285200   -207.0615     -0.019658       -0.019658   \n",
       "2019-07-23  52943812400   -471.7256     -0.045684       -0.045684   \n",
       "2019-07-24  53161190900    -82.0058     -0.008322       -0.008322   \n",
       "2019-07-25            0    126.9472      0.012991        0.012991   \n",
       "2019-07-26            0    -28.6894     -0.002898       -0.002898   \n",
       "\n",
       "            Cumulative Return  Cumulative Return Compounded  \n",
       "Date                                                         \n",
       "2019-07-22           1.142808                      2.661205  \n",
       "2019-07-23           1.097124                      2.539631  \n",
       "2019-07-24           1.088802                      2.518496  \n",
       "2019-07-25           1.101793                      2.551213  \n",
       "2019-07-26           1.098895                      2.543819  "
      ]
     },
     "execution_count": 46,
     "metadata": {},
     "output_type": "execute_result"
    }
   ],
   "source": [
    "btc2.tail()"
   ]
  },
  {
   "cell_type": "code",
   "execution_count": 47,
   "metadata": {},
   "outputs": [
    {
     "data": {
      "text/html": [
       "<div>\n",
       "<style scoped>\n",
       "    .dataframe tbody tr th:only-of-type {\n",
       "        vertical-align: middle;\n",
       "    }\n",
       "\n",
       "    .dataframe tbody tr th {\n",
       "        vertical-align: top;\n",
       "    }\n",
       "\n",
       "    .dataframe thead th {\n",
       "        text-align: right;\n",
       "    }\n",
       "</style>\n",
       "<table border=\"1\" class=\"dataframe\">\n",
       "  <thead>\n",
       "    <tr style=\"text-align: right;\">\n",
       "      <th></th>\n",
       "      <th>Close</th>\n",
       "      <th>Volume</th>\n",
       "      <th>Price_diff</th>\n",
       "      <th>Daily_Return</th>\n",
       "      <th>Daily_Return_%</th>\n",
       "      <th>Cumulative Return</th>\n",
       "      <th>Cumulative Return Compounded</th>\n",
       "    </tr>\n",
       "    <tr>\n",
       "      <th>Date</th>\n",
       "      <th></th>\n",
       "      <th></th>\n",
       "      <th></th>\n",
       "      <th></th>\n",
       "      <th></th>\n",
       "      <th></th>\n",
       "      <th></th>\n",
       "    </tr>\n",
       "  </thead>\n",
       "  <tbody>\n",
       "    <tr>\n",
       "      <th>2019-01-01</th>\n",
       "      <td>3880.1501</td>\n",
       "      <td>17059830700</td>\n",
       "      <td>NaN</td>\n",
       "      <td>NaN</td>\n",
       "      <td>NaN</td>\n",
       "      <td>NaN</td>\n",
       "      <td>NaN</td>\n",
       "    </tr>\n",
       "    <tr>\n",
       "      <th>2019-01-02</th>\n",
       "      <td>3961.0095</td>\n",
       "      <td>21085460300</td>\n",
       "      <td>80.8594</td>\n",
       "      <td>0.020839</td>\n",
       "      <td>0.020839</td>\n",
       "      <td>0.020839</td>\n",
       "      <td>1.020839</td>\n",
       "    </tr>\n",
       "    <tr>\n",
       "      <th>2019-01-03</th>\n",
       "      <td>3835.8604</td>\n",
       "      <td>17648807200</td>\n",
       "      <td>-125.1491</td>\n",
       "      <td>-0.031595</td>\n",
       "      <td>-0.031595</td>\n",
       "      <td>-0.010756</td>\n",
       "      <td>0.988586</td>\n",
       "    </tr>\n",
       "    <tr>\n",
       "      <th>2019-01-04</th>\n",
       "      <td>3874.0603</td>\n",
       "      <td>17050761100</td>\n",
       "      <td>38.1999</td>\n",
       "      <td>0.009959</td>\n",
       "      <td>0.009959</td>\n",
       "      <td>-0.000797</td>\n",
       "      <td>0.998431</td>\n",
       "    </tr>\n",
       "    <tr>\n",
       "      <th>2019-01-07</th>\n",
       "      <td>4050.4001</td>\n",
       "      <td>20928936800</td>\n",
       "      <td>176.3398</td>\n",
       "      <td>0.045518</td>\n",
       "      <td>0.045518</td>\n",
       "      <td>0.044721</td>\n",
       "      <td>1.043877</td>\n",
       "    </tr>\n",
       "  </tbody>\n",
       "</table>\n",
       "</div>"
      ],
      "text/plain": [
       "                Close       Volume  Price_diff  Daily_Return  Daily_Return_%  \\\n",
       "Date                                                                           \n",
       "2019-01-01  3880.1501  17059830700         NaN           NaN             NaN   \n",
       "2019-01-02  3961.0095  21085460300     80.8594      0.020839        0.020839   \n",
       "2019-01-03  3835.8604  17648807200   -125.1491     -0.031595       -0.031595   \n",
       "2019-01-04  3874.0603  17050761100     38.1999      0.009959        0.009959   \n",
       "2019-01-07  4050.4001  20928936800    176.3398      0.045518        0.045518   \n",
       "\n",
       "            Cumulative Return  Cumulative Return Compounded  \n",
       "Date                                                         \n",
       "2019-01-01                NaN                           NaN  \n",
       "2019-01-02           0.020839                      1.020839  \n",
       "2019-01-03          -0.010756                      0.988586  \n",
       "2019-01-04          -0.000797                      0.998431  \n",
       "2019-01-07           0.044721                      1.043877  "
      ]
     },
     "execution_count": 47,
     "metadata": {},
     "output_type": "execute_result"
    }
   ],
   "source": [
    "btc2.drop(['Open', 'High','Low','Adj Close'],axis=1, inplace = True)\n",
    "btc2.head()"
   ]
  },
  {
   "cell_type": "markdown",
   "metadata": {},
   "source": [
    "For predictive modelling, data is normalized using log \n"
   ]
  },
  {
   "cell_type": "code",
   "execution_count": 48,
   "metadata": {},
   "outputs": [
    {
     "data": {
      "text/html": [
       "<div>\n",
       "<style scoped>\n",
       "    .dataframe tbody tr th:only-of-type {\n",
       "        vertical-align: middle;\n",
       "    }\n",
       "\n",
       "    .dataframe tbody tr th {\n",
       "        vertical-align: top;\n",
       "    }\n",
       "\n",
       "    .dataframe thead th {\n",
       "        text-align: right;\n",
       "    }\n",
       "</style>\n",
       "<table border=\"1\" class=\"dataframe\">\n",
       "  <thead>\n",
       "    <tr style=\"text-align: right;\">\n",
       "      <th></th>\n",
       "      <th>Close</th>\n",
       "      <th>Volume</th>\n",
       "      <th>Price_diff</th>\n",
       "      <th>Daily_Return</th>\n",
       "      <th>Daily_Return_%</th>\n",
       "      <th>Cumulative Return</th>\n",
       "      <th>Cumulative Return Compounded</th>\n",
       "      <th>Log Daily Return</th>\n",
       "    </tr>\n",
       "    <tr>\n",
       "      <th>Date</th>\n",
       "      <th></th>\n",
       "      <th></th>\n",
       "      <th></th>\n",
       "      <th></th>\n",
       "      <th></th>\n",
       "      <th></th>\n",
       "      <th></th>\n",
       "      <th></th>\n",
       "    </tr>\n",
       "  </thead>\n",
       "  <tbody>\n",
       "    <tr>\n",
       "      <th>2019-01-01</th>\n",
       "      <td>3880.1501</td>\n",
       "      <td>17059830700</td>\n",
       "      <td>NaN</td>\n",
       "      <td>NaN</td>\n",
       "      <td>NaN</td>\n",
       "      <td>NaN</td>\n",
       "      <td>NaN</td>\n",
       "      <td>NaN</td>\n",
       "    </tr>\n",
       "    <tr>\n",
       "      <th>2019-01-02</th>\n",
       "      <td>3961.0095</td>\n",
       "      <td>21085460300</td>\n",
       "      <td>80.8594</td>\n",
       "      <td>0.020839</td>\n",
       "      <td>0.020839</td>\n",
       "      <td>0.020839</td>\n",
       "      <td>1.020839</td>\n",
       "      <td>0.020625</td>\n",
       "    </tr>\n",
       "    <tr>\n",
       "      <th>2019-01-03</th>\n",
       "      <td>3835.8604</td>\n",
       "      <td>17648807200</td>\n",
       "      <td>-125.1491</td>\n",
       "      <td>-0.031595</td>\n",
       "      <td>-0.031595</td>\n",
       "      <td>-0.010756</td>\n",
       "      <td>0.988586</td>\n",
       "      <td>-0.032105</td>\n",
       "    </tr>\n",
       "    <tr>\n",
       "      <th>2019-01-04</th>\n",
       "      <td>3874.0603</td>\n",
       "      <td>17050761100</td>\n",
       "      <td>38.1999</td>\n",
       "      <td>0.009959</td>\n",
       "      <td>0.009959</td>\n",
       "      <td>-0.000797</td>\n",
       "      <td>0.998431</td>\n",
       "      <td>0.009909</td>\n",
       "    </tr>\n",
       "    <tr>\n",
       "      <th>2019-01-07</th>\n",
       "      <td>4050.4001</td>\n",
       "      <td>20928936800</td>\n",
       "      <td>176.3398</td>\n",
       "      <td>0.045518</td>\n",
       "      <td>0.045518</td>\n",
       "      <td>0.044721</td>\n",
       "      <td>1.043877</td>\n",
       "      <td>0.044513</td>\n",
       "    </tr>\n",
       "  </tbody>\n",
       "</table>\n",
       "</div>"
      ],
      "text/plain": [
       "                Close       Volume  Price_diff  Daily_Return  Daily_Return_%  \\\n",
       "Date                                                                           \n",
       "2019-01-01  3880.1501  17059830700         NaN           NaN             NaN   \n",
       "2019-01-02  3961.0095  21085460300     80.8594      0.020839        0.020839   \n",
       "2019-01-03  3835.8604  17648807200   -125.1491     -0.031595       -0.031595   \n",
       "2019-01-04  3874.0603  17050761100     38.1999      0.009959        0.009959   \n",
       "2019-01-07  4050.4001  20928936800    176.3398      0.045518        0.045518   \n",
       "\n",
       "            Cumulative Return  Cumulative Return Compounded  Log Daily Return  \n",
       "Date                                                                           \n",
       "2019-01-01                NaN                           NaN               NaN  \n",
       "2019-01-02           0.020839                      1.020839          0.020625  \n",
       "2019-01-03          -0.010756                      0.988586         -0.032105  \n",
       "2019-01-04          -0.000797                      0.998431          0.009909  \n",
       "2019-01-07           0.044721                      1.043877          0.044513  "
      ]
     },
     "execution_count": 48,
     "metadata": {},
     "output_type": "execute_result"
    }
   ],
   "source": [
    "btc2['Log Daily Return'] = np.log(btc2['Close']/btc2['Close'].shift(1))\n",
    "btc2.head()"
   ]
  },
  {
   "cell_type": "code",
   "execution_count": 49,
   "metadata": {},
   "outputs": [
    {
     "data": {
      "text/html": [
       "<div>\n",
       "<style scoped>\n",
       "    .dataframe tbody tr th:only-of-type {\n",
       "        vertical-align: middle;\n",
       "    }\n",
       "\n",
       "    .dataframe tbody tr th {\n",
       "        vertical-align: top;\n",
       "    }\n",
       "\n",
       "    .dataframe thead th {\n",
       "        text-align: right;\n",
       "    }\n",
       "</style>\n",
       "<table border=\"1\" class=\"dataframe\">\n",
       "  <thead>\n",
       "    <tr style=\"text-align: right;\">\n",
       "      <th></th>\n",
       "      <th>Open</th>\n",
       "      <th>High</th>\n",
       "      <th>Low</th>\n",
       "      <th>Close</th>\n",
       "      <th>Adj Close</th>\n",
       "      <th>Volume</th>\n",
       "      <th>Daily_Return</th>\n",
       "      <th>Daily_Return_%</th>\n",
       "      <th>Cumulative Return</th>\n",
       "      <th>Cumulative Return Compounded</th>\n",
       "    </tr>\n",
       "    <tr>\n",
       "      <th>Date</th>\n",
       "      <th></th>\n",
       "      <th></th>\n",
       "      <th></th>\n",
       "      <th></th>\n",
       "      <th></th>\n",
       "      <th></th>\n",
       "      <th></th>\n",
       "      <th></th>\n",
       "      <th></th>\n",
       "      <th></th>\n",
       "    </tr>\n",
       "  </thead>\n",
       "  <tbody>\n",
       "    <tr>\n",
       "      <th>2019-01-02</th>\n",
       "      <td>1286.1</td>\n",
       "      <td>1292.4</td>\n",
       "      <td>1280.6</td>\n",
       "      <td>1288.0</td>\n",
       "      <td>1288.0</td>\n",
       "      <td>117161644</td>\n",
       "      <td>NaN</td>\n",
       "      <td>NaN</td>\n",
       "      <td>NaN</td>\n",
       "      <td>NaN</td>\n",
       "    </tr>\n",
       "    <tr>\n",
       "      <th>2019-01-03</th>\n",
       "      <td>1290.3</td>\n",
       "      <td>1297.3</td>\n",
       "      <td>1286.4</td>\n",
       "      <td>1296.8</td>\n",
       "      <td>1296.8</td>\n",
       "      <td>126026410</td>\n",
       "      <td>0.006832</td>\n",
       "      <td>0.006832</td>\n",
       "      <td>0.006832</td>\n",
       "      <td>1.006832</td>\n",
       "    </tr>\n",
       "    <tr>\n",
       "      <th>2019-01-04</th>\n",
       "      <td>1296.2</td>\n",
       "      <td>1298.1</td>\n",
       "      <td>1278.1</td>\n",
       "      <td>1286.2</td>\n",
       "      <td>1286.2</td>\n",
       "      <td>163584509</td>\n",
       "      <td>-0.008174</td>\n",
       "      <td>-0.008174</td>\n",
       "      <td>-0.001342</td>\n",
       "      <td>0.998602</td>\n",
       "    </tr>\n",
       "    <tr>\n",
       "      <th>2019-01-07</th>\n",
       "      <td>1290.2</td>\n",
       "      <td>1297.0</td>\n",
       "      <td>1287.3</td>\n",
       "      <td>1290.2</td>\n",
       "      <td>1290.2</td>\n",
       "      <td>115068369</td>\n",
       "      <td>0.003110</td>\n",
       "      <td>0.003110</td>\n",
       "      <td>0.001768</td>\n",
       "      <td>1.001708</td>\n",
       "    </tr>\n",
       "    <tr>\n",
       "      <th>2019-01-08</th>\n",
       "      <td>1283.9</td>\n",
       "      <td>1288.4</td>\n",
       "      <td>1280.2</td>\n",
       "      <td>1285.8</td>\n",
       "      <td>1285.8</td>\n",
       "      <td>120716675</td>\n",
       "      <td>-0.003410</td>\n",
       "      <td>-0.003410</td>\n",
       "      <td>-0.001642</td>\n",
       "      <td>0.998292</td>\n",
       "    </tr>\n",
       "  </tbody>\n",
       "</table>\n",
       "</div>"
      ],
      "text/plain": [
       "              Open    High     Low   Close  Adj Close     Volume  \\\n",
       "Date                                                               \n",
       "2019-01-02  1286.1  1292.4  1280.6  1288.0     1288.0  117161644   \n",
       "2019-01-03  1290.3  1297.3  1286.4  1296.8     1296.8  126026410   \n",
       "2019-01-04  1296.2  1298.1  1278.1  1286.2     1286.2  163584509   \n",
       "2019-01-07  1290.2  1297.0  1287.3  1290.2     1290.2  115068369   \n",
       "2019-01-08  1283.9  1288.4  1280.2  1285.8     1285.8  120716675   \n",
       "\n",
       "            Daily_Return  Daily_Return_%  Cumulative Return  \\\n",
       "Date                                                          \n",
       "2019-01-02           NaN             NaN                NaN   \n",
       "2019-01-03      0.006832        0.006832           0.006832   \n",
       "2019-01-04     -0.008174       -0.008174          -0.001342   \n",
       "2019-01-07      0.003110        0.003110           0.001768   \n",
       "2019-01-08     -0.003410       -0.003410          -0.001642   \n",
       "\n",
       "            Cumulative Return Compounded  \n",
       "Date                                      \n",
       "2019-01-02                           NaN  \n",
       "2019-01-03                      1.006832  \n",
       "2019-01-04                      0.998602  \n",
       "2019-01-07                      1.001708  \n",
       "2019-01-08                      0.998292  "
      ]
     },
     "execution_count": 49,
     "metadata": {},
     "output_type": "execute_result"
    }
   ],
   "source": [
    "gold3['Daily_Return']=gold3['Close']/gold3['Close'].shift(1)-1\n",
    "gold3['Daily_Return_%']=gold3['Close'].pct_change(1)\n",
    "gold3['Cumulative Return'] = np.cumsum(gold3['Daily_Return'])\n",
    "gold3['Cumulative Return Compounded'] = (1+gold3['Daily_Return']).cumprod()\n",
    "gold3.head()"
   ]
  },
  {
   "cell_type": "code",
   "execution_count": 50,
   "metadata": {},
   "outputs": [
    {
     "data": {
      "text/html": [
       "<div>\n",
       "<style scoped>\n",
       "    .dataframe tbody tr th:only-of-type {\n",
       "        vertical-align: middle;\n",
       "    }\n",
       "\n",
       "    .dataframe tbody tr th {\n",
       "        vertical-align: top;\n",
       "    }\n",
       "\n",
       "    .dataframe thead th {\n",
       "        text-align: right;\n",
       "    }\n",
       "</style>\n",
       "<table border=\"1\" class=\"dataframe\">\n",
       "  <thead>\n",
       "    <tr style=\"text-align: right;\">\n",
       "      <th></th>\n",
       "      <th>Open</th>\n",
       "      <th>High</th>\n",
       "      <th>Low</th>\n",
       "      <th>Close</th>\n",
       "      <th>Adj Close</th>\n",
       "      <th>Volume</th>\n",
       "      <th>Daily_Return</th>\n",
       "      <th>Daily_Return_%</th>\n",
       "      <th>Cumulative Return</th>\n",
       "      <th>Cumulative Return Compounded</th>\n",
       "    </tr>\n",
       "    <tr>\n",
       "      <th>Date</th>\n",
       "      <th></th>\n",
       "      <th></th>\n",
       "      <th></th>\n",
       "      <th></th>\n",
       "      <th></th>\n",
       "      <th></th>\n",
       "      <th></th>\n",
       "      <th></th>\n",
       "      <th></th>\n",
       "      <th></th>\n",
       "    </tr>\n",
       "  </thead>\n",
       "  <tbody>\n",
       "    <tr>\n",
       "      <th>2019-07-19</th>\n",
       "      <td>1444.5</td>\n",
       "      <td>1445.3</td>\n",
       "      <td>1421.1</td>\n",
       "      <td>1426.5</td>\n",
       "      <td>1426.5</td>\n",
       "      <td>273685337</td>\n",
       "      <td>-0.012734</td>\n",
       "      <td>-0.012734</td>\n",
       "      <td>0.105563</td>\n",
       "      <td>1.107531</td>\n",
       "    </tr>\n",
       "    <tr>\n",
       "      <th>2019-07-22</th>\n",
       "      <td>1427.7</td>\n",
       "      <td>1430.8</td>\n",
       "      <td>1424.0</td>\n",
       "      <td>1424.5</td>\n",
       "      <td>1424.5</td>\n",
       "      <td>143551490</td>\n",
       "      <td>-0.001402</td>\n",
       "      <td>-0.001402</td>\n",
       "      <td>0.104161</td>\n",
       "      <td>1.105978</td>\n",
       "    </tr>\n",
       "    <tr>\n",
       "      <th>2019-07-23</th>\n",
       "      <td>1418.2</td>\n",
       "      <td>1431.1</td>\n",
       "      <td>1414.6</td>\n",
       "      <td>1417.1</td>\n",
       "      <td>1417.1</td>\n",
       "      <td>201962709</td>\n",
       "      <td>-0.005195</td>\n",
       "      <td>-0.005195</td>\n",
       "      <td>0.098966</td>\n",
       "      <td>1.100233</td>\n",
       "    </tr>\n",
       "    <tr>\n",
       "      <th>2019-07-24</th>\n",
       "      <td>1421.1</td>\n",
       "      <td>1430.0</td>\n",
       "      <td>1418.7</td>\n",
       "      <td>1425.2</td>\n",
       "      <td>1425.2</td>\n",
       "      <td>160276898</td>\n",
       "      <td>0.005716</td>\n",
       "      <td>0.005716</td>\n",
       "      <td>0.104682</td>\n",
       "      <td>1.106522</td>\n",
       "    </tr>\n",
       "    <tr>\n",
       "      <th>2019-07-25</th>\n",
       "      <td>1422.4</td>\n",
       "      <td>1434.1</td>\n",
       "      <td>1411.1</td>\n",
       "      <td>1415.3</td>\n",
       "      <td>1415.3</td>\n",
       "      <td>219691366</td>\n",
       "      <td>-0.006946</td>\n",
       "      <td>-0.006946</td>\n",
       "      <td>0.097736</td>\n",
       "      <td>1.098835</td>\n",
       "    </tr>\n",
       "  </tbody>\n",
       "</table>\n",
       "</div>"
      ],
      "text/plain": [
       "              Open    High     Low   Close  Adj Close     Volume  \\\n",
       "Date                                                               \n",
       "2019-07-19  1444.5  1445.3  1421.1  1426.5     1426.5  273685337   \n",
       "2019-07-22  1427.7  1430.8  1424.0  1424.5     1424.5  143551490   \n",
       "2019-07-23  1418.2  1431.1  1414.6  1417.1     1417.1  201962709   \n",
       "2019-07-24  1421.1  1430.0  1418.7  1425.2     1425.2  160276898   \n",
       "2019-07-25  1422.4  1434.1  1411.1  1415.3     1415.3  219691366   \n",
       "\n",
       "            Daily_Return  Daily_Return_%  Cumulative Return  \\\n",
       "Date                                                          \n",
       "2019-07-19     -0.012734       -0.012734           0.105563   \n",
       "2019-07-22     -0.001402       -0.001402           0.104161   \n",
       "2019-07-23     -0.005195       -0.005195           0.098966   \n",
       "2019-07-24      0.005716        0.005716           0.104682   \n",
       "2019-07-25     -0.006946       -0.006946           0.097736   \n",
       "\n",
       "            Cumulative Return Compounded  \n",
       "Date                                      \n",
       "2019-07-19                      1.107531  \n",
       "2019-07-22                      1.105978  \n",
       "2019-07-23                      1.100233  \n",
       "2019-07-24                      1.106522  \n",
       "2019-07-25                      1.098835  "
      ]
     },
     "execution_count": 50,
     "metadata": {},
     "output_type": "execute_result"
    }
   ],
   "source": [
    "gold3.tail()"
   ]
  },
  {
   "cell_type": "code",
   "execution_count": 51,
   "metadata": {},
   "outputs": [
    {
     "data": {
      "text/html": [
       "<div>\n",
       "<style scoped>\n",
       "    .dataframe tbody tr th:only-of-type {\n",
       "        vertical-align: middle;\n",
       "    }\n",
       "\n",
       "    .dataframe tbody tr th {\n",
       "        vertical-align: top;\n",
       "    }\n",
       "\n",
       "    .dataframe thead th {\n",
       "        text-align: right;\n",
       "    }\n",
       "</style>\n",
       "<table border=\"1\" class=\"dataframe\">\n",
       "  <thead>\n",
       "    <tr style=\"text-align: right;\">\n",
       "      <th></th>\n",
       "      <th>Open</th>\n",
       "      <th>High</th>\n",
       "      <th>Low</th>\n",
       "      <th>Close</th>\n",
       "      <th>Adj Close</th>\n",
       "      <th>Volume</th>\n",
       "      <th>Daily_Return</th>\n",
       "      <th>Daily_Return_%</th>\n",
       "      <th>Cumulative Return</th>\n",
       "      <th>Cumulative Return Compounded</th>\n",
       "    </tr>\n",
       "  </thead>\n",
       "  <tbody>\n",
       "    <tr>\n",
       "      <th>count</th>\n",
       "      <td>142.000000</td>\n",
       "      <td>142.000000</td>\n",
       "      <td>142.000000</td>\n",
       "      <td>142.000000</td>\n",
       "      <td>142.000000</td>\n",
       "      <td>1.420000e+02</td>\n",
       "      <td>141.000000</td>\n",
       "      <td>141.000000</td>\n",
       "      <td>141.000000</td>\n",
       "      <td>141.000000</td>\n",
       "    </tr>\n",
       "    <tr>\n",
       "      <th>mean</th>\n",
       "      <td>1311.440141</td>\n",
       "      <td>1327.938028</td>\n",
       "      <td>1305.430986</td>\n",
       "      <td>1322.243662</td>\n",
       "      <td>1322.243662</td>\n",
       "      <td>1.375924e+08</td>\n",
       "      <td>0.000693</td>\n",
       "      <td>0.000693</td>\n",
       "      <td>0.027149</td>\n",
       "      <td>1.026775</td>\n",
       "    </tr>\n",
       "    <tr>\n",
       "      <th>std</th>\n",
       "      <td>119.999365</td>\n",
       "      <td>48.452919</td>\n",
       "      <td>118.983015</td>\n",
       "      <td>46.908864</td>\n",
       "      <td>46.908864</td>\n",
       "      <td>5.047198e+07</td>\n",
       "      <td>0.007032</td>\n",
       "      <td>0.007032</td>\n",
       "      <td>0.035544</td>\n",
       "      <td>0.036480</td>\n",
       "    </tr>\n",
       "    <tr>\n",
       "      <th>min</th>\n",
       "      <td>0.000000</td>\n",
       "      <td>1275.900000</td>\n",
       "      <td>0.000000</td>\n",
       "      <td>1271.900000</td>\n",
       "      <td>1271.900000</td>\n",
       "      <td>3.762840e+07</td>\n",
       "      <td>-0.017062</td>\n",
       "      <td>-0.017062</td>\n",
       "      <td>-0.011221</td>\n",
       "      <td>0.987500</td>\n",
       "    </tr>\n",
       "    <tr>\n",
       "      <th>25%</th>\n",
       "      <td>1287.925000</td>\n",
       "      <td>1292.875000</td>\n",
       "      <td>1281.075000</td>\n",
       "      <td>1288.050000</td>\n",
       "      <td>1288.050000</td>\n",
       "      <td>1.099841e+08</td>\n",
       "      <td>-0.003737</td>\n",
       "      <td>-0.003737</td>\n",
       "      <td>0.000721</td>\n",
       "      <td>1.000155</td>\n",
       "    </tr>\n",
       "    <tr>\n",
       "      <th>50%</th>\n",
       "      <td>1303.850000</td>\n",
       "      <td>1311.200000</td>\n",
       "      <td>1297.450000</td>\n",
       "      <td>1304.850000</td>\n",
       "      <td>1304.850000</td>\n",
       "      <td>1.272594e+08</td>\n",
       "      <td>0.000307</td>\n",
       "      <td>0.000307</td>\n",
       "      <td>0.015307</td>\n",
       "      <td>1.014441</td>\n",
       "    </tr>\n",
       "    <tr>\n",
       "      <th>75%</th>\n",
       "      <td>1333.050000</td>\n",
       "      <td>1343.350000</td>\n",
       "      <td>1326.950000</td>\n",
       "      <td>1336.250000</td>\n",
       "      <td>1336.250000</td>\n",
       "      <td>1.513497e+08</td>\n",
       "      <td>0.004861</td>\n",
       "      <td>0.004861</td>\n",
       "      <td>0.039400</td>\n",
       "      <td>1.038199</td>\n",
       "    </tr>\n",
       "    <tr>\n",
       "      <th>max</th>\n",
       "      <td>1444.500000</td>\n",
       "      <td>1454.400000</td>\n",
       "      <td>1424.000000</td>\n",
       "      <td>1444.900000</td>\n",
       "      <td>1444.900000</td>\n",
       "      <td>3.439746e+08</td>\n",
       "      <td>0.022467</td>\n",
       "      <td>0.022467</td>\n",
       "      <td>0.118298</td>\n",
       "      <td>1.121817</td>\n",
       "    </tr>\n",
       "  </tbody>\n",
       "</table>\n",
       "</div>"
      ],
      "text/plain": [
       "              Open         High          Low        Close    Adj Close  \\\n",
       "count   142.000000   142.000000   142.000000   142.000000   142.000000   \n",
       "mean   1311.440141  1327.938028  1305.430986  1322.243662  1322.243662   \n",
       "std     119.999365    48.452919   118.983015    46.908864    46.908864   \n",
       "min       0.000000  1275.900000     0.000000  1271.900000  1271.900000   \n",
       "25%    1287.925000  1292.875000  1281.075000  1288.050000  1288.050000   \n",
       "50%    1303.850000  1311.200000  1297.450000  1304.850000  1304.850000   \n",
       "75%    1333.050000  1343.350000  1326.950000  1336.250000  1336.250000   \n",
       "max    1444.500000  1454.400000  1424.000000  1444.900000  1444.900000   \n",
       "\n",
       "             Volume  Daily_Return  Daily_Return_%  Cumulative Return  \\\n",
       "count  1.420000e+02    141.000000      141.000000         141.000000   \n",
       "mean   1.375924e+08      0.000693        0.000693           0.027149   \n",
       "std    5.047198e+07      0.007032        0.007032           0.035544   \n",
       "min    3.762840e+07     -0.017062       -0.017062          -0.011221   \n",
       "25%    1.099841e+08     -0.003737       -0.003737           0.000721   \n",
       "50%    1.272594e+08      0.000307        0.000307           0.015307   \n",
       "75%    1.513497e+08      0.004861        0.004861           0.039400   \n",
       "max    3.439746e+08      0.022467        0.022467           0.118298   \n",
       "\n",
       "       Cumulative Return Compounded  \n",
       "count                    141.000000  \n",
       "mean                       1.026775  \n",
       "std                        0.036480  \n",
       "min                        0.987500  \n",
       "25%                        1.000155  \n",
       "50%                        1.014441  \n",
       "75%                        1.038199  \n",
       "max                        1.121817  "
      ]
     },
     "execution_count": 51,
     "metadata": {},
     "output_type": "execute_result"
    }
   ],
   "source": [
    "gold3.describe()"
   ]
  },
  {
   "cell_type": "code",
   "execution_count": 52,
   "metadata": {},
   "outputs": [
    {
     "data": {
      "text/html": [
       "<div>\n",
       "<style scoped>\n",
       "    .dataframe tbody tr th:only-of-type {\n",
       "        vertical-align: middle;\n",
       "    }\n",
       "\n",
       "    .dataframe tbody tr th {\n",
       "        vertical-align: top;\n",
       "    }\n",
       "\n",
       "    .dataframe thead th {\n",
       "        text-align: right;\n",
       "    }\n",
       "</style>\n",
       "<table border=\"1\" class=\"dataframe\">\n",
       "  <thead>\n",
       "    <tr style=\"text-align: right;\">\n",
       "      <th></th>\n",
       "      <th>Close</th>\n",
       "      <th>Volume</th>\n",
       "      <th>Price_diff</th>\n",
       "      <th>Daily_Return</th>\n",
       "      <th>Daily_Return_%</th>\n",
       "      <th>Cumulative Return</th>\n",
       "      <th>Cumulative Return Compounded</th>\n",
       "      <th>Log Daily Return</th>\n",
       "    </tr>\n",
       "  </thead>\n",
       "  <tbody>\n",
       "    <tr>\n",
       "      <th>count</th>\n",
       "      <td>149.000000</td>\n",
       "      <td>1.490000e+02</td>\n",
       "      <td>148.000000</td>\n",
       "      <td>148.000000</td>\n",
       "      <td>148.000000</td>\n",
       "      <td>148.000000</td>\n",
       "      <td>148.000000</td>\n",
       "      <td>148.000000</td>\n",
       "    </tr>\n",
       "    <tr>\n",
       "      <th>mean</th>\n",
       "      <td>6220.886877</td>\n",
       "      <td>3.741238e+10</td>\n",
       "      <td>40.474664</td>\n",
       "      <td>0.007425</td>\n",
       "      <td>0.007425</td>\n",
       "      <td>0.433550</td>\n",
       "      <td>1.607335</td>\n",
       "      <td>0.006309</td>\n",
       "    </tr>\n",
       "    <tr>\n",
       "      <th>std</th>\n",
       "      <td>2800.068759</td>\n",
       "      <td>3.244011e+10</td>\n",
       "      <td>423.183987</td>\n",
       "      <td>0.047500</td>\n",
       "      <td>0.047500</td>\n",
       "      <td>0.471542</td>\n",
       "      <td>0.722367</td>\n",
       "      <td>0.046713</td>\n",
       "    </tr>\n",
       "    <tr>\n",
       "      <th>min</th>\n",
       "      <td>3375.330300</td>\n",
       "      <td>0.000000e+00</td>\n",
       "      <td>-1763.185600</td>\n",
       "      <td>-0.142710</td>\n",
       "      <td>-0.142710</td>\n",
       "      <td>-0.131045</td>\n",
       "      <td>0.869897</td>\n",
       "      <td>-0.153979</td>\n",
       "    </tr>\n",
       "    <tr>\n",
       "      <th>25%</th>\n",
       "      <td>3874.890400</td>\n",
       "      <td>1.490058e+10</td>\n",
       "      <td>-50.962875</td>\n",
       "      <td>-0.009633</td>\n",
       "      <td>-0.009633</td>\n",
       "      <td>0.016053</td>\n",
       "      <td>0.998599</td>\n",
       "      <td>-0.009680</td>\n",
       "    </tr>\n",
       "    <tr>\n",
       "      <th>50%</th>\n",
       "      <td>5212.810100</td>\n",
       "      <td>2.314655e+10</td>\n",
       "      <td>16.245600</td>\n",
       "      <td>0.003447</td>\n",
       "      <td>0.003447</td>\n",
       "      <td>0.334981</td>\n",
       "      <td>1.346198</td>\n",
       "      <td>0.003441</td>\n",
       "    </tr>\n",
       "    <tr>\n",
       "      <th>75%</th>\n",
       "      <td>8183.828600</td>\n",
       "      <td>4.323353e+10</td>\n",
       "      <td>136.126800</td>\n",
       "      <td>0.022333</td>\n",
       "      <td>0.022333</td>\n",
       "      <td>0.830602</td>\n",
       "      <td>2.112486</td>\n",
       "      <td>0.022088</td>\n",
       "    </tr>\n",
       "    <tr>\n",
       "      <th>max</th>\n",
       "      <td>12913.273400</td>\n",
       "      <td>1.554955e+11</td>\n",
       "      <td>1448.069300</td>\n",
       "      <td>0.227745</td>\n",
       "      <td>0.227745</td>\n",
       "      <td>1.317715</td>\n",
       "      <td>3.328035</td>\n",
       "      <td>0.205179</td>\n",
       "    </tr>\n",
       "  </tbody>\n",
       "</table>\n",
       "</div>"
      ],
      "text/plain": [
       "              Close        Volume   Price_diff  Daily_Return  Daily_Return_%  \\\n",
       "count    149.000000  1.490000e+02   148.000000    148.000000      148.000000   \n",
       "mean    6220.886877  3.741238e+10    40.474664      0.007425        0.007425   \n",
       "std     2800.068759  3.244011e+10   423.183987      0.047500        0.047500   \n",
       "min     3375.330300  0.000000e+00 -1763.185600     -0.142710       -0.142710   \n",
       "25%     3874.890400  1.490058e+10   -50.962875     -0.009633       -0.009633   \n",
       "50%     5212.810100  2.314655e+10    16.245600      0.003447        0.003447   \n",
       "75%     8183.828600  4.323353e+10   136.126800      0.022333        0.022333   \n",
       "max    12913.273400  1.554955e+11  1448.069300      0.227745        0.227745   \n",
       "\n",
       "       Cumulative Return  Cumulative Return Compounded  Log Daily Return  \n",
       "count         148.000000                    148.000000        148.000000  \n",
       "mean            0.433550                      1.607335          0.006309  \n",
       "std             0.471542                      0.722367          0.046713  \n",
       "min            -0.131045                      0.869897         -0.153979  \n",
       "25%             0.016053                      0.998599         -0.009680  \n",
       "50%             0.334981                      1.346198          0.003441  \n",
       "75%             0.830602                      2.112486          0.022088  \n",
       "max             1.317715                      3.328035          0.205179  "
      ]
     },
     "execution_count": 52,
     "metadata": {},
     "output_type": "execute_result"
    }
   ],
   "source": [
    "btc2.describe()"
   ]
  },
  {
   "cell_type": "code",
   "execution_count": 53,
   "metadata": {},
   "outputs": [
    {
     "data": {
      "image/png": "[encoded data removed]",
      "text/plain": [
       "<Figure size 864x360 with 2 Axes>"
      ]
     },
     "metadata": {},
     "output_type": "display_data"
    }
   ],
   "source": [
    "plt.figure(figsize=(12,5))\n",
    "plt.xlabel('Price in USD')\n",
    "\n",
    "ax1 = btc2.Daily_Return.plot(color='red', grid=True, label='BTC')\n",
    "ax2 = gold3.Daily_Return.plot(color='grey', grid=True, secondary_y=True, label='Gold')\n",
    "\n",
    "\n",
    "ax1.legend(bbox_to_anchor=(0.05, 0.9), loc=3, borderaxespad=0.2)\n",
    "ax2.legend(bbox_to_anchor=(0.05, 0.9), loc=2, borderaxespad=0.2)\n",
    "\n",
    "ax1.set_ylabel('BTC: Daily Return', position = (1000,0.5))\n",
    "ax1.tick_params(axis='y', colors='red')\n",
    "ax1.yaxis.label.set_color('red')\n",
    "\n",
    "#can't move y-label horizontally, ask mentor\n",
    "ax2.set_ylabel('Gold: Daily Return', position = (10000,0.5))\n",
    "ax2.tick_params(axis='y', colors='grey')\n",
    "ax2.yaxis.label.set_color('grey')\n",
    "\n",
    "ax1.yaxis.set_major_formatter(mpl.ticker.FormatStrFormatter('%.3f'))\n",
    "ax2.yaxis.set_major_formatter(mpl.ticker.FormatStrFormatter('%.3f'))\n",
    "\n",
    "plt.title('Comparative Daily Rate of Retrun for BTC and GOLD')\n",
    "\n",
    "plt.show() "
   ]
  },
  {
   "cell_type": "code",
   "execution_count": 196,
   "metadata": {},
   "outputs": [
    {
     "data": {
      "image/png": "[encoded data removed]",
      "text/plain": [
       "<Figure size 864x360 with 2 Axes>"
      ]
     },
     "metadata": {},
     "output_type": "display_data"
    }
   ],
   "source": [
    "plt.figure(figsize=(12,5))\n",
    "plt.xlabel('Price in USD')\n",
    "\n",
    "ax1 = btc2.Daily_Return.plot(color='grey', grid=True, label='BTC')\n",
    "ax2 = gold3.Daily_Return.plot(color='blue', grid=True, secondary_y=True, label='Gold')\n",
    "\n",
    "\n",
    "ax1.legend(bbox_to_anchor=(0.05, 0.9), loc=3, borderaxespad=0.2)\n",
    "ax2.legend(bbox_to_anchor=(0.05, 0.9), loc=2, borderaxespad=0.2)\n",
    "\n",
    "ax1.set_ylabel('BTC: Daily Return', position = (1000,0.5))\n",
    "ax1.tick_params(axis='y', colors='grey')\n",
    "ax1.yaxis.label.set_color('grey')\n",
    "\n",
    "#can't move y-label horizontally, ask mentor\n",
    "ax2.set_ylabel('Gold: Daily Return', position = (10000,0.5))\n",
    "ax2.tick_params(axis='y', colors='blue')\n",
    "ax2.yaxis.label.set_color('blue')\n",
    "\n",
    "ax1.yaxis.set_major_formatter(mpl.ticker.FormatStrFormatter('%.3f'))\n",
    "ax2.yaxis.set_major_formatter(mpl.ticker.FormatStrFormatter('%.3f'))\n",
    "\n",
    "plt.title('Comparative Daily Rate of Retrun for BTC and GOLD')\n",
    "\n",
    "plt.show()"
   ]
  },
  {
   "cell_type": "markdown",
   "metadata": {},
   "source": [
    "#### As shown in the two figures above, the Daily RoR of Gold is overall more steady than that of BTC. This speaks to the volatile nature of BTC. "
   ]
  },
  {
   "cell_type": "code",
   "execution_count": 55,
   "metadata": {},
   "outputs": [
    {
     "data": {
      "text/html": [
       "<div>\n",
       "<style scoped>\n",
       "    .dataframe tbody tr th:only-of-type {\n",
       "        vertical-align: middle;\n",
       "    }\n",
       "\n",
       "    .dataframe tbody tr th {\n",
       "        vertical-align: top;\n",
       "    }\n",
       "\n",
       "    .dataframe thead th {\n",
       "        text-align: right;\n",
       "    }\n",
       "</style>\n",
       "<table border=\"1\" class=\"dataframe\">\n",
       "  <thead>\n",
       "    <tr style=\"text-align: right;\">\n",
       "      <th></th>\n",
       "      <th>Close</th>\n",
       "      <th>Volume</th>\n",
       "      <th>Price_diff</th>\n",
       "      <th>Daily_Return</th>\n",
       "      <th>Daily_Return_%</th>\n",
       "      <th>Cumulative Return</th>\n",
       "      <th>Cumulative Return Compounded</th>\n",
       "      <th>Log Daily Return</th>\n",
       "      <th>cumulative_return</th>\n",
       "    </tr>\n",
       "    <tr>\n",
       "      <th>Date</th>\n",
       "      <th></th>\n",
       "      <th></th>\n",
       "      <th></th>\n",
       "      <th></th>\n",
       "      <th></th>\n",
       "      <th></th>\n",
       "      <th></th>\n",
       "      <th></th>\n",
       "      <th></th>\n",
       "    </tr>\n",
       "  </thead>\n",
       "  <tbody>\n",
       "    <tr>\n",
       "      <th>2019-07-22</th>\n",
       "      <td>10325.8740</td>\n",
       "      <td>52444285200</td>\n",
       "      <td>-207.0615</td>\n",
       "      <td>-0.019658</td>\n",
       "      <td>-0.019658</td>\n",
       "      <td>1.142808</td>\n",
       "      <td>2.661205</td>\n",
       "      <td>-0.019854</td>\n",
       "      <td>1.661205</td>\n",
       "    </tr>\n",
       "    <tr>\n",
       "      <th>2019-07-23</th>\n",
       "      <td>9854.1484</td>\n",
       "      <td>52943812400</td>\n",
       "      <td>-471.7256</td>\n",
       "      <td>-0.045684</td>\n",
       "      <td>-0.045684</td>\n",
       "      <td>1.097124</td>\n",
       "      <td>2.539631</td>\n",
       "      <td>-0.046760</td>\n",
       "      <td>1.539631</td>\n",
       "    </tr>\n",
       "    <tr>\n",
       "      <th>2019-07-24</th>\n",
       "      <td>9772.1426</td>\n",
       "      <td>53161190900</td>\n",
       "      <td>-82.0058</td>\n",
       "      <td>-0.008322</td>\n",
       "      <td>-0.008322</td>\n",
       "      <td>1.088802</td>\n",
       "      <td>2.518496</td>\n",
       "      <td>-0.008357</td>\n",
       "      <td>1.518496</td>\n",
       "    </tr>\n",
       "    <tr>\n",
       "      <th>2019-07-25</th>\n",
       "      <td>9899.0898</td>\n",
       "      <td>0</td>\n",
       "      <td>126.9472</td>\n",
       "      <td>0.012991</td>\n",
       "      <td>0.012991</td>\n",
       "      <td>1.101793</td>\n",
       "      <td>2.551213</td>\n",
       "      <td>0.012907</td>\n",
       "      <td>1.551213</td>\n",
       "    </tr>\n",
       "    <tr>\n",
       "      <th>2019-07-26</th>\n",
       "      <td>9870.4004</td>\n",
       "      <td>0</td>\n",
       "      <td>-28.6894</td>\n",
       "      <td>-0.002898</td>\n",
       "      <td>-0.002898</td>\n",
       "      <td>1.098895</td>\n",
       "      <td>2.543819</td>\n",
       "      <td>-0.002902</td>\n",
       "      <td>1.543819</td>\n",
       "    </tr>\n",
       "  </tbody>\n",
       "</table>\n",
       "</div>"
      ],
      "text/plain": [
       "                 Close       Volume  Price_diff  Daily_Return  Daily_Return_%  \\\n",
       "Date                                                                            \n",
       "2019-07-22  10325.8740  52444285200   -207.0615     -0.019658       -0.019658   \n",
       "2019-07-23   9854.1484  52943812400   -471.7256     -0.045684       -0.045684   \n",
       "2019-07-24   9772.1426  53161190900    -82.0058     -0.008322       -0.008322   \n",
       "2019-07-25   9899.0898            0    126.9472      0.012991        0.012991   \n",
       "2019-07-26   9870.4004            0    -28.6894     -0.002898       -0.002898   \n",
       "\n",
       "            Cumulative Return  Cumulative Return Compounded  Log Daily Return  \\\n",
       "Date                                                                            \n",
       "2019-07-22           1.142808                      2.661205         -0.019854   \n",
       "2019-07-23           1.097124                      2.539631         -0.046760   \n",
       "2019-07-24           1.088802                      2.518496         -0.008357   \n",
       "2019-07-25           1.101793                      2.551213          0.012907   \n",
       "2019-07-26           1.098895                      2.543819         -0.002902   \n",
       "\n",
       "            cumulative_return  \n",
       "Date                           \n",
       "2019-07-22           1.661205  \n",
       "2019-07-23           1.539631  \n",
       "2019-07-24           1.518496  \n",
       "2019-07-25           1.551213  \n",
       "2019-07-26           1.543819  "
      ]
     },
     "execution_count": 55,
     "metadata": {},
     "output_type": "execute_result"
    }
   ],
   "source": [
    "btc2['cumulative_return'] = np.exp(np.log1p(btc2['Daily_Return']).cumsum())-1\n",
    "btc2.tail()"
   ]
  },
  {
   "cell_type": "code",
   "execution_count": 56,
   "metadata": {},
   "outputs": [
    {
     "name": "stdout",
     "output_type": "stream",
     "text": [
      "[*********************100%***********************]  1 of 1 downloaded\n"
     ]
    },
    {
     "data": {
      "text/html": [
       "<div>\n",
       "<style scoped>\n",
       "    .dataframe tbody tr th:only-of-type {\n",
       "        vertical-align: middle;\n",
       "    }\n",
       "\n",
       "    .dataframe tbody tr th {\n",
       "        vertical-align: top;\n",
       "    }\n",
       "\n",
       "    .dataframe thead th {\n",
       "        text-align: right;\n",
       "    }\n",
       "</style>\n",
       "<table border=\"1\" class=\"dataframe\">\n",
       "  <thead>\n",
       "    <tr style=\"text-align: right;\">\n",
       "      <th></th>\n",
       "      <th>Open</th>\n",
       "      <th>High</th>\n",
       "      <th>Low</th>\n",
       "      <th>Close</th>\n",
       "      <th>Adj Close</th>\n",
       "      <th>Volume</th>\n",
       "    </tr>\n",
       "    <tr>\n",
       "      <th>Date</th>\n",
       "      <th></th>\n",
       "      <th></th>\n",
       "      <th></th>\n",
       "      <th></th>\n",
       "      <th></th>\n",
       "      <th></th>\n",
       "    </tr>\n",
       "  </thead>\n",
       "  <tbody>\n",
       "    <tr>\n",
       "      <th>2019-01-02</th>\n",
       "      <td>2476.96</td>\n",
       "      <td>2519.49</td>\n",
       "      <td>2467.47</td>\n",
       "      <td>2510.03</td>\n",
       "      <td>2510.03</td>\n",
       "      <td>3733160000</td>\n",
       "    </tr>\n",
       "    <tr>\n",
       "      <th>2019-01-03</th>\n",
       "      <td>2491.92</td>\n",
       "      <td>2493.14</td>\n",
       "      <td>2443.96</td>\n",
       "      <td>2447.89</td>\n",
       "      <td>2447.89</td>\n",
       "      <td>3822860000</td>\n",
       "    </tr>\n",
       "    <tr>\n",
       "      <th>2019-01-04</th>\n",
       "      <td>2474.33</td>\n",
       "      <td>2538.07</td>\n",
       "      <td>2474.33</td>\n",
       "      <td>2531.94</td>\n",
       "      <td>2531.94</td>\n",
       "      <td>4213410000</td>\n",
       "    </tr>\n",
       "    <tr>\n",
       "      <th>2019-01-07</th>\n",
       "      <td>2535.61</td>\n",
       "      <td>2566.16</td>\n",
       "      <td>2524.56</td>\n",
       "      <td>2549.69</td>\n",
       "      <td>2549.69</td>\n",
       "      <td>4104710000</td>\n",
       "    </tr>\n",
       "    <tr>\n",
       "      <th>2019-01-08</th>\n",
       "      <td>2568.11</td>\n",
       "      <td>2579.82</td>\n",
       "      <td>2547.56</td>\n",
       "      <td>2574.41</td>\n",
       "      <td>2574.41</td>\n",
       "      <td>4083030000</td>\n",
       "    </tr>\n",
       "  </tbody>\n",
       "</table>\n",
       "</div>"
      ],
      "text/plain": [
       "               Open     High      Low    Close  Adj Close      Volume\n",
       "Date                                                                 \n",
       "2019-01-02  2476.96  2519.49  2467.47  2510.03    2510.03  3733160000\n",
       "2019-01-03  2491.92  2493.14  2443.96  2447.89    2447.89  3822860000\n",
       "2019-01-04  2474.33  2538.07  2474.33  2531.94    2531.94  4213410000\n",
       "2019-01-07  2535.61  2566.16  2524.56  2549.69    2549.69  4104710000\n",
       "2019-01-08  2568.11  2579.82  2547.56  2574.41    2574.41  4083030000"
      ]
     },
     "execution_count": 56,
     "metadata": {},
     "output_type": "execute_result"
    }
   ],
   "source": [
    "SP500 = pdr.get_data_yahoo('^GSPC', start = '2019-01-01')\n",
    "SP500.head()"
   ]
  },
  {
   "cell_type": "code",
   "execution_count": 57,
   "metadata": {},
   "outputs": [
    {
     "data": {
      "text/html": [
       "<div>\n",
       "<style scoped>\n",
       "    .dataframe tbody tr th:only-of-type {\n",
       "        vertical-align: middle;\n",
       "    }\n",
       "\n",
       "    .dataframe tbody tr th {\n",
       "        vertical-align: top;\n",
       "    }\n",
       "\n",
       "    .dataframe thead th {\n",
       "        text-align: right;\n",
       "    }\n",
       "</style>\n",
       "<table border=\"1\" class=\"dataframe\">\n",
       "  <thead>\n",
       "    <tr style=\"text-align: right;\">\n",
       "      <th></th>\n",
       "      <th>Open</th>\n",
       "      <th>High</th>\n",
       "      <th>Low</th>\n",
       "      <th>Close</th>\n",
       "      <th>Adj Close</th>\n",
       "      <th>Volume</th>\n",
       "      <th>Daily_Return1</th>\n",
       "    </tr>\n",
       "    <tr>\n",
       "      <th>Date</th>\n",
       "      <th></th>\n",
       "      <th></th>\n",
       "      <th></th>\n",
       "      <th></th>\n",
       "      <th></th>\n",
       "      <th></th>\n",
       "      <th></th>\n",
       "    </tr>\n",
       "  </thead>\n",
       "  <tbody>\n",
       "    <tr>\n",
       "      <th>2019-01-02</th>\n",
       "      <td>2476.96</td>\n",
       "      <td>2519.49</td>\n",
       "      <td>2467.47</td>\n",
       "      <td>2510.03</td>\n",
       "      <td>2510.03</td>\n",
       "      <td>3733160000</td>\n",
       "      <td>NaN</td>\n",
       "    </tr>\n",
       "    <tr>\n",
       "      <th>2019-01-03</th>\n",
       "      <td>2491.92</td>\n",
       "      <td>2493.14</td>\n",
       "      <td>2443.96</td>\n",
       "      <td>2447.89</td>\n",
       "      <td>2447.89</td>\n",
       "      <td>3822860000</td>\n",
       "      <td>-0.024757</td>\n",
       "    </tr>\n",
       "    <tr>\n",
       "      <th>2019-01-04</th>\n",
       "      <td>2474.33</td>\n",
       "      <td>2538.07</td>\n",
       "      <td>2474.33</td>\n",
       "      <td>2531.94</td>\n",
       "      <td>2531.94</td>\n",
       "      <td>4213410000</td>\n",
       "      <td>0.034336</td>\n",
       "    </tr>\n",
       "    <tr>\n",
       "      <th>2019-01-07</th>\n",
       "      <td>2535.61</td>\n",
       "      <td>2566.16</td>\n",
       "      <td>2524.56</td>\n",
       "      <td>2549.69</td>\n",
       "      <td>2549.69</td>\n",
       "      <td>4104710000</td>\n",
       "      <td>0.007010</td>\n",
       "    </tr>\n",
       "    <tr>\n",
       "      <th>2019-01-08</th>\n",
       "      <td>2568.11</td>\n",
       "      <td>2579.82</td>\n",
       "      <td>2547.56</td>\n",
       "      <td>2574.41</td>\n",
       "      <td>2574.41</td>\n",
       "      <td>4083030000</td>\n",
       "      <td>0.009695</td>\n",
       "    </tr>\n",
       "  </tbody>\n",
       "</table>\n",
       "</div>"
      ],
      "text/plain": [
       "               Open     High      Low    Close  Adj Close      Volume  \\\n",
       "Date                                                                    \n",
       "2019-01-02  2476.96  2519.49  2467.47  2510.03    2510.03  3733160000   \n",
       "2019-01-03  2491.92  2493.14  2443.96  2447.89    2447.89  3822860000   \n",
       "2019-01-04  2474.33  2538.07  2474.33  2531.94    2531.94  4213410000   \n",
       "2019-01-07  2535.61  2566.16  2524.56  2549.69    2549.69  4104710000   \n",
       "2019-01-08  2568.11  2579.82  2547.56  2574.41    2574.41  4083030000   \n",
       "\n",
       "            Daily_Return1  \n",
       "Date                       \n",
       "2019-01-02            NaN  \n",
       "2019-01-03      -0.024757  \n",
       "2019-01-04       0.034336  \n",
       "2019-01-07       0.007010  \n",
       "2019-01-08       0.009695  "
      ]
     },
     "execution_count": 57,
     "metadata": {},
     "output_type": "execute_result"
    }
   ],
   "source": [
    "SP500['Daily_Return1']=SP500['Close']/SP500['Close'].shift(1)-1\n",
    "SP500.head()"
   ]
  },
  {
   "cell_type": "code",
   "execution_count": 58,
   "metadata": {},
   "outputs": [
    {
     "data": {
      "image/png": "[encoded data removed]",
      "text/plain": [
       "<Figure size 864x360 with 2 Axes>"
      ]
     },
     "metadata": {
      "needs_background": "light"
     },
     "output_type": "display_data"
    }
   ],
   "source": [
    "plt.figure(figsize=(12,5))\n",
    "plt.xlabel('Price in USD')\n",
    "\n",
    "ax3 = SP500.Daily_Return1.plot(color='black', grid=True, label='SP500')\n",
    "ax2 = gold3.Daily_Return.plot(color='blue', grid=True, secondary_y=True, label='Gold', alpha = 0.5)\n",
    "ax1 = btc2.Daily_Return.plot(color='grey', grid=True, label='BTC')\n",
    "\n",
    "\n",
    "ax3.legend(bbox_to_anchor=(0.05, 0.9), loc=3, borderaxespad=0.2)\n",
    "ax2.legend(bbox_to_anchor=(0.05, 0.9), loc=2, borderaxespad=0.2)\n",
    "ax1 = btc2.Daily_Return.plot(color='grey', grid=True, label='BTC')\n",
    "\n",
    "ax3.set_ylabel('SP500: Daily RoR', position = (1000,0.5))\n",
    "ax3.tick_params(axis='y', colors='yellow')\n",
    "ax3.yaxis.label.set_color('yellow')\n",
    "\n",
    "#can't move y-label horizontally, ask mentor\n",
    "ax2.set_ylabel('Gold: Daily Return', position = (10000,0.5))\n",
    "ax2.tick_params(axis='y', colors='blue')\n",
    "ax2.yaxis.label.set_color('blue')\n",
    "\n",
    "ax1.set_ylabel('BTC: Daily Return', position = (10000,0.5))\n",
    "ax1.tick_params(axis='y', colors='red')\n",
    "ax1.yaxis.label.set_color('red')\n",
    "\n",
    "ax3.yaxis.set_major_formatter(mpl.ticker.FormatStrFormatter('%.3f'))\n",
    "ax3.yaxis.set_major_formatter(mpl.ticker.FormatStrFormatter('%.3f'))\n",
    "ax3.yaxis.set_major_formatter(mpl.ticker.FormatStrFormatter('%.3f'))\n",
    "\n",
    "plt.title('Comparative Daily Rate of Retrun for BTC, SP500 and GOLD')\n",
    "\n",
    "plt.show()"
   ]
  },
  {
   "cell_type": "markdown",
   "metadata": {},
   "source": [
    "## Daily Rate of Return : Distribution"
   ]
  },
  {
   "cell_type": "code",
   "execution_count": 59,
   "metadata": {},
   "outputs": [
    {
     "data": {
      "image/png": "[encoded data removed]",
      "text/plain": [
       "<Figure size 432x288 with 1 Axes>"
      ]
     },
     "metadata": {
      "needs_background": "light"
     },
     "output_type": "display_data"
    }
   ],
   "source": [
    "plt.hist(btc2['Daily_Return'], bins = 10, color = 'b', alpha = 0.5)\n",
    "plt.title('BTC Daily Rate of Return')\n",
    "plt.show()"
   ]
  },
  {
   "cell_type": "code",
   "execution_count": 60,
   "metadata": {},
   "outputs": [
    {
     "data": {
      "image/png": "[encoded data removed]",
      "text/plain": [
       "<Figure size 432x288 with 1 Axes>"
      ]
     },
     "metadata": {
      "needs_background": "light"
     },
     "output_type": "display_data"
    }
   ],
   "source": [
    "qqplot(btc2['Daily_Return'], color = 'b', alpha = 0.5)\n",
    "plt.show()"
   ]
  },
  {
   "cell_type": "markdown",
   "metadata": {},
   "source": [
    "#### It is evident that the Daily Return Data for BTC is not normally distributed. This is clear from the shape of the histogram and the QQ Plot test, where the scatter is skewed from the 45 degree line."
   ]
  },
  {
   "cell_type": "code",
   "execution_count": 61,
   "metadata": {},
   "outputs": [
    {
     "data": {
      "image/png": "[encoded data removed]",
      "text/plain": [
       "<Figure size 432x288 with 1 Axes>"
      ]
     },
     "metadata": {
      "needs_background": "light"
     },
     "output_type": "display_data"
    }
   ],
   "source": [
    "plt.hist(gold3['Daily_Return'], bins=10, color = 'b', alpha = 0.5)\n",
    "plt.title('Gold Daily Rate of Return')\n",
    "plt.show()"
   ]
  },
  {
   "cell_type": "code",
   "execution_count": 62,
   "metadata": {},
   "outputs": [
    {
     "data": {
      "text/plain": [
       "(nan, 1.0)"
      ]
     },
     "execution_count": 62,
     "metadata": {},
     "output_type": "execute_result"
    }
   ],
   "source": [
    "stats.shapiro(gold3['Daily_Return'])"
   ]
  },
  {
   "cell_type": "code",
   "execution_count": 63,
   "metadata": {},
   "outputs": [
    {
     "data": {
      "image/png": "[encoded data removed]",
      "text/plain": [
       "<Figure size 432x288 with 1 Axes>"
      ]
     },
     "metadata": {
      "needs_background": "light"
     },
     "output_type": "display_data"
    }
   ],
   "source": [
    "qqplot(gold3['Daily_Return'], color = 'b', alpha = 0.5)\n",
    "plt.show()"
   ]
  },
  {
   "cell_type": "markdown",
   "metadata": {},
   "source": [
    "#### The Daily Return Data for GOLD is normally distributed, due to the shape of the histogram as well as the QQ Plot. It seems like it couldbe slightly skewed, but not enough evidence that the data is not normally distributed. "
   ]
  },
  {
   "cell_type": "markdown",
   "metadata": {},
   "source": [
    "### Variance Stabalizing Transformation"
   ]
  },
  {
   "cell_type": "markdown",
   "metadata": {},
   "source": [
    "#### Since the BTC Daily Return data is not normally distributed, we can't compare the two data sets without using variance stabilizing transformations (log transforming,etc). "
   ]
  },
  {
   "cell_type": "code",
   "execution_count": 64,
   "metadata": {},
   "outputs": [
    {
     "data": {
      "text/html": [
       "<div>\n",
       "<style scoped>\n",
       "    .dataframe tbody tr th:only-of-type {\n",
       "        vertical-align: middle;\n",
       "    }\n",
       "\n",
       "    .dataframe tbody tr th {\n",
       "        vertical-align: top;\n",
       "    }\n",
       "\n",
       "    .dataframe thead th {\n",
       "        text-align: right;\n",
       "    }\n",
       "</style>\n",
       "<table border=\"1\" class=\"dataframe\">\n",
       "  <thead>\n",
       "    <tr style=\"text-align: right;\">\n",
       "      <th></th>\n",
       "      <th>Close</th>\n",
       "      <th>Volume</th>\n",
       "      <th>Price_diff</th>\n",
       "      <th>Daily_Return</th>\n",
       "      <th>Daily_Return_%</th>\n",
       "      <th>Cumulative Return</th>\n",
       "      <th>Cumulative Return Compounded</th>\n",
       "      <th>Log Daily Return</th>\n",
       "      <th>cumulative_return</th>\n",
       "      <th>Daily_Return_Log</th>\n",
       "    </tr>\n",
       "    <tr>\n",
       "      <th>Date</th>\n",
       "      <th></th>\n",
       "      <th></th>\n",
       "      <th></th>\n",
       "      <th></th>\n",
       "      <th></th>\n",
       "      <th></th>\n",
       "      <th></th>\n",
       "      <th></th>\n",
       "      <th></th>\n",
       "      <th></th>\n",
       "    </tr>\n",
       "  </thead>\n",
       "  <tbody>\n",
       "    <tr>\n",
       "      <th>2019-07-22</th>\n",
       "      <td>10325.8740</td>\n",
       "      <td>52444285200</td>\n",
       "      <td>-207.0615</td>\n",
       "      <td>-0.019658</td>\n",
       "      <td>-0.019658</td>\n",
       "      <td>1.142808</td>\n",
       "      <td>2.661205</td>\n",
       "      <td>-0.019854</td>\n",
       "      <td>1.661205</td>\n",
       "      <td>-0.019854</td>\n",
       "    </tr>\n",
       "    <tr>\n",
       "      <th>2019-07-23</th>\n",
       "      <td>9854.1484</td>\n",
       "      <td>52943812400</td>\n",
       "      <td>-471.7256</td>\n",
       "      <td>-0.045684</td>\n",
       "      <td>-0.045684</td>\n",
       "      <td>1.097124</td>\n",
       "      <td>2.539631</td>\n",
       "      <td>-0.046760</td>\n",
       "      <td>1.539631</td>\n",
       "      <td>-0.046760</td>\n",
       "    </tr>\n",
       "    <tr>\n",
       "      <th>2019-07-24</th>\n",
       "      <td>9772.1426</td>\n",
       "      <td>53161190900</td>\n",
       "      <td>-82.0058</td>\n",
       "      <td>-0.008322</td>\n",
       "      <td>-0.008322</td>\n",
       "      <td>1.088802</td>\n",
       "      <td>2.518496</td>\n",
       "      <td>-0.008357</td>\n",
       "      <td>1.518496</td>\n",
       "      <td>-0.008357</td>\n",
       "    </tr>\n",
       "    <tr>\n",
       "      <th>2019-07-25</th>\n",
       "      <td>9899.0898</td>\n",
       "      <td>0</td>\n",
       "      <td>126.9472</td>\n",
       "      <td>0.012991</td>\n",
       "      <td>0.012991</td>\n",
       "      <td>1.101793</td>\n",
       "      <td>2.551213</td>\n",
       "      <td>0.012907</td>\n",
       "      <td>1.551213</td>\n",
       "      <td>0.012907</td>\n",
       "    </tr>\n",
       "    <tr>\n",
       "      <th>2019-07-26</th>\n",
       "      <td>9870.4004</td>\n",
       "      <td>0</td>\n",
       "      <td>-28.6894</td>\n",
       "      <td>-0.002898</td>\n",
       "      <td>-0.002898</td>\n",
       "      <td>1.098895</td>\n",
       "      <td>2.543819</td>\n",
       "      <td>-0.002902</td>\n",
       "      <td>1.543819</td>\n",
       "      <td>-0.002902</td>\n",
       "    </tr>\n",
       "  </tbody>\n",
       "</table>\n",
       "</div>"
      ],
      "text/plain": [
       "                 Close       Volume  Price_diff  Daily_Return  Daily_Return_%  \\\n",
       "Date                                                                            \n",
       "2019-07-22  10325.8740  52444285200   -207.0615     -0.019658       -0.019658   \n",
       "2019-07-23   9854.1484  52943812400   -471.7256     -0.045684       -0.045684   \n",
       "2019-07-24   9772.1426  53161190900    -82.0058     -0.008322       -0.008322   \n",
       "2019-07-25   9899.0898            0    126.9472      0.012991        0.012991   \n",
       "2019-07-26   9870.4004            0    -28.6894     -0.002898       -0.002898   \n",
       "\n",
       "            Cumulative Return  Cumulative Return Compounded  Log Daily Return  \\\n",
       "Date                                                                            \n",
       "2019-07-22           1.142808                      2.661205         -0.019854   \n",
       "2019-07-23           1.097124                      2.539631         -0.046760   \n",
       "2019-07-24           1.088802                      2.518496         -0.008357   \n",
       "2019-07-25           1.101793                      2.551213          0.012907   \n",
       "2019-07-26           1.098895                      2.543819         -0.002902   \n",
       "\n",
       "            cumulative_return  Daily_Return_Log  \n",
       "Date                                             \n",
       "2019-07-22           1.661205         -0.019854  \n",
       "2019-07-23           1.539631         -0.046760  \n",
       "2019-07-24           1.518496         -0.008357  \n",
       "2019-07-25           1.551213          0.012907  \n",
       "2019-07-26           1.543819         -0.002902  "
      ]
     },
     "execution_count": 64,
     "metadata": {},
     "output_type": "execute_result"
    }
   ],
   "source": [
    "btc2['Daily_Return_Log'] = np.log1p(btc2['Daily_Return'])\n",
    "btc2.tail()"
   ]
  },
  {
   "cell_type": "code",
   "execution_count": 65,
   "metadata": {},
   "outputs": [
    {
     "data": {
      "text/html": [
       "<div>\n",
       "<style scoped>\n",
       "    .dataframe tbody tr th:only-of-type {\n",
       "        vertical-align: middle;\n",
       "    }\n",
       "\n",
       "    .dataframe tbody tr th {\n",
       "        vertical-align: top;\n",
       "    }\n",
       "\n",
       "    .dataframe thead th {\n",
       "        text-align: right;\n",
       "    }\n",
       "</style>\n",
       "<table border=\"1\" class=\"dataframe\">\n",
       "  <thead>\n",
       "    <tr style=\"text-align: right;\">\n",
       "      <th></th>\n",
       "      <th>Open</th>\n",
       "      <th>High</th>\n",
       "      <th>Low</th>\n",
       "      <th>Close</th>\n",
       "      <th>Adj Close</th>\n",
       "      <th>Volume</th>\n",
       "      <th>Daily_Return</th>\n",
       "      <th>Daily_Return_%</th>\n",
       "      <th>Cumulative Return</th>\n",
       "      <th>Cumulative Return Compounded</th>\n",
       "      <th>Daily_Return_Log</th>\n",
       "    </tr>\n",
       "    <tr>\n",
       "      <th>Date</th>\n",
       "      <th></th>\n",
       "      <th></th>\n",
       "      <th></th>\n",
       "      <th></th>\n",
       "      <th></th>\n",
       "      <th></th>\n",
       "      <th></th>\n",
       "      <th></th>\n",
       "      <th></th>\n",
       "      <th></th>\n",
       "      <th></th>\n",
       "    </tr>\n",
       "  </thead>\n",
       "  <tbody>\n",
       "    <tr>\n",
       "      <th>2019-07-19</th>\n",
       "      <td>1444.5</td>\n",
       "      <td>1445.3</td>\n",
       "      <td>1421.1</td>\n",
       "      <td>1426.5</td>\n",
       "      <td>1426.5</td>\n",
       "      <td>273685337</td>\n",
       "      <td>-0.012734</td>\n",
       "      <td>-0.012734</td>\n",
       "      <td>0.105563</td>\n",
       "      <td>1.107531</td>\n",
       "      <td>-0.012816</td>\n",
       "    </tr>\n",
       "    <tr>\n",
       "      <th>2019-07-22</th>\n",
       "      <td>1427.7</td>\n",
       "      <td>1430.8</td>\n",
       "      <td>1424.0</td>\n",
       "      <td>1424.5</td>\n",
       "      <td>1424.5</td>\n",
       "      <td>143551490</td>\n",
       "      <td>-0.001402</td>\n",
       "      <td>-0.001402</td>\n",
       "      <td>0.104161</td>\n",
       "      <td>1.105978</td>\n",
       "      <td>-0.001403</td>\n",
       "    </tr>\n",
       "    <tr>\n",
       "      <th>2019-07-23</th>\n",
       "      <td>1418.2</td>\n",
       "      <td>1431.1</td>\n",
       "      <td>1414.6</td>\n",
       "      <td>1417.1</td>\n",
       "      <td>1417.1</td>\n",
       "      <td>201962709</td>\n",
       "      <td>-0.005195</td>\n",
       "      <td>-0.005195</td>\n",
       "      <td>0.098966</td>\n",
       "      <td>1.100233</td>\n",
       "      <td>-0.005208</td>\n",
       "    </tr>\n",
       "    <tr>\n",
       "      <th>2019-07-24</th>\n",
       "      <td>1421.1</td>\n",
       "      <td>1430.0</td>\n",
       "      <td>1418.7</td>\n",
       "      <td>1425.2</td>\n",
       "      <td>1425.2</td>\n",
       "      <td>160276898</td>\n",
       "      <td>0.005716</td>\n",
       "      <td>0.005716</td>\n",
       "      <td>0.104682</td>\n",
       "      <td>1.106522</td>\n",
       "      <td>0.005700</td>\n",
       "    </tr>\n",
       "    <tr>\n",
       "      <th>2019-07-25</th>\n",
       "      <td>1422.4</td>\n",
       "      <td>1434.1</td>\n",
       "      <td>1411.1</td>\n",
       "      <td>1415.3</td>\n",
       "      <td>1415.3</td>\n",
       "      <td>219691366</td>\n",
       "      <td>-0.006946</td>\n",
       "      <td>-0.006946</td>\n",
       "      <td>0.097736</td>\n",
       "      <td>1.098835</td>\n",
       "      <td>-0.006971</td>\n",
       "    </tr>\n",
       "  </tbody>\n",
       "</table>\n",
       "</div>"
      ],
      "text/plain": [
       "              Open    High     Low   Close  Adj Close     Volume  \\\n",
       "Date                                                               \n",
       "2019-07-19  1444.5  1445.3  1421.1  1426.5     1426.5  273685337   \n",
       "2019-07-22  1427.7  1430.8  1424.0  1424.5     1424.5  143551490   \n",
       "2019-07-23  1418.2  1431.1  1414.6  1417.1     1417.1  201962709   \n",
       "2019-07-24  1421.1  1430.0  1418.7  1425.2     1425.2  160276898   \n",
       "2019-07-25  1422.4  1434.1  1411.1  1415.3     1415.3  219691366   \n",
       "\n",
       "            Daily_Return  Daily_Return_%  Cumulative Return  \\\n",
       "Date                                                          \n",
       "2019-07-19     -0.012734       -0.012734           0.105563   \n",
       "2019-07-22     -0.001402       -0.001402           0.104161   \n",
       "2019-07-23     -0.005195       -0.005195           0.098966   \n",
       "2019-07-24      0.005716        0.005716           0.104682   \n",
       "2019-07-25     -0.006946       -0.006946           0.097736   \n",
       "\n",
       "            Cumulative Return Compounded  Daily_Return_Log  \n",
       "Date                                                        \n",
       "2019-07-19                      1.107531         -0.012816  \n",
       "2019-07-22                      1.105978         -0.001403  \n",
       "2019-07-23                      1.100233         -0.005208  \n",
       "2019-07-24                      1.106522          0.005700  \n",
       "2019-07-25                      1.098835         -0.006971  "
      ]
     },
     "execution_count": 65,
     "metadata": {},
     "output_type": "execute_result"
    }
   ],
   "source": [
    "gold3['Daily_Return_Log'] = np.log1p(gold3['Daily_Return'])\n",
    "gold3.tail()"
   ]
  },
  {
   "cell_type": "code",
   "execution_count": 66,
   "metadata": {},
   "outputs": [
    {
     "data": {
      "image/png": "[encoded data removed]",
      "text/plain": [
       "<Figure size 432x288 with 1 Axes>"
      ]
     },
     "metadata": {
      "needs_background": "light"
     },
     "output_type": "display_data"
    }
   ],
   "source": [
    "plt.hist(btc2['Daily_Return_Log'], bins = 10, color = 'b', alpha = 0.5)\n",
    "plt.title('log_transform_RoR')\n",
    "plt.show()"
   ]
  },
  {
   "cell_type": "code",
   "execution_count": 67,
   "metadata": {},
   "outputs": [
    {
     "data": {
      "image/png": "[encoded data removed]",
      "text/plain": [
       "<Figure size 432x288 with 1 Axes>"
      ]
     },
     "metadata": {
      "needs_background": "light"
     },
     "output_type": "display_data"
    }
   ],
   "source": [
    "qqplot(btc2['Daily_Return_Log'], color = 'b', alpha = 0.5)\n",
    "plt.show()"
   ]
  },
  {
   "cell_type": "code",
   "execution_count": 69,
   "metadata": {},
   "outputs": [
    {
     "data": {
      "image/png": "[encoded data removed]",
      "text/plain": [
       "<Figure size 432x288 with 1 Axes>"
      ]
     },
     "metadata": {
      "needs_background": "light"
     },
     "output_type": "display_data"
    }
   ],
   "source": [
    "gold3['Daily_Return_Log'] = np.log1p(gold3['Daily_Return'])\n",
    "plt.hist(gold3['Daily_Return_Log'], bins=10, color = 'b', alpha = 0.5)\n",
    "plt.title('log_transform_RoR (2)')\n",
    "plt.show()"
   ]
  },
  {
   "cell_type": "code",
   "execution_count": 205,
   "metadata": {},
   "outputs": [],
   "source": [
    "##Return the natural logarithm of 1+x (base e). The result is calculated in a way which is accurate for x near zero."
   ]
  },
  {
   "cell_type": "code",
   "execution_count": 70,
   "metadata": {},
   "outputs": [
    {
     "data": {
      "text/html": [
       "<div>\n",
       "<style scoped>\n",
       "    .dataframe tbody tr th:only-of-type {\n",
       "        vertical-align: middle;\n",
       "    }\n",
       "\n",
       "    .dataframe tbody tr th {\n",
       "        vertical-align: top;\n",
       "    }\n",
       "\n",
       "    .dataframe thead th {\n",
       "        text-align: right;\n",
       "    }\n",
       "</style>\n",
       "<table border=\"1\" class=\"dataframe\">\n",
       "  <thead>\n",
       "    <tr style=\"text-align: right;\">\n",
       "      <th></th>\n",
       "      <th>Close</th>\n",
       "      <th>Volume</th>\n",
       "      <th>Price_diff</th>\n",
       "      <th>Daily_Return</th>\n",
       "      <th>Daily_Return_%</th>\n",
       "      <th>Cumulative Return</th>\n",
       "      <th>Cumulative Return Compounded</th>\n",
       "      <th>Log Daily Return</th>\n",
       "      <th>cumulative_return</th>\n",
       "      <th>Daily_Return_Log</th>\n",
       "      <th>Daily_Return_Log2</th>\n",
       "    </tr>\n",
       "    <tr>\n",
       "      <th>Date</th>\n",
       "      <th></th>\n",
       "      <th></th>\n",
       "      <th></th>\n",
       "      <th></th>\n",
       "      <th></th>\n",
       "      <th></th>\n",
       "      <th></th>\n",
       "      <th></th>\n",
       "      <th></th>\n",
       "      <th></th>\n",
       "      <th></th>\n",
       "    </tr>\n",
       "  </thead>\n",
       "  <tbody>\n",
       "    <tr>\n",
       "      <th>2019-07-22</th>\n",
       "      <td>10325.8740</td>\n",
       "      <td>52444285200</td>\n",
       "      <td>-207.0615</td>\n",
       "      <td>-0.019658</td>\n",
       "      <td>-0.019658</td>\n",
       "      <td>1.142808</td>\n",
       "      <td>2.661205</td>\n",
       "      <td>-0.019854</td>\n",
       "      <td>1.661205</td>\n",
       "      <td>-0.019854</td>\n",
       "      <td>NaN</td>\n",
       "    </tr>\n",
       "    <tr>\n",
       "      <th>2019-07-23</th>\n",
       "      <td>9854.1484</td>\n",
       "      <td>52943812400</td>\n",
       "      <td>-471.7256</td>\n",
       "      <td>-0.045684</td>\n",
       "      <td>-0.045684</td>\n",
       "      <td>1.097124</td>\n",
       "      <td>2.539631</td>\n",
       "      <td>-0.046760</td>\n",
       "      <td>1.539631</td>\n",
       "      <td>-0.046760</td>\n",
       "      <td>NaN</td>\n",
       "    </tr>\n",
       "    <tr>\n",
       "      <th>2019-07-24</th>\n",
       "      <td>9772.1426</td>\n",
       "      <td>53161190900</td>\n",
       "      <td>-82.0058</td>\n",
       "      <td>-0.008322</td>\n",
       "      <td>-0.008322</td>\n",
       "      <td>1.088802</td>\n",
       "      <td>2.518496</td>\n",
       "      <td>-0.008357</td>\n",
       "      <td>1.518496</td>\n",
       "      <td>-0.008357</td>\n",
       "      <td>NaN</td>\n",
       "    </tr>\n",
       "    <tr>\n",
       "      <th>2019-07-25</th>\n",
       "      <td>9899.0898</td>\n",
       "      <td>0</td>\n",
       "      <td>126.9472</td>\n",
       "      <td>0.012991</td>\n",
       "      <td>0.012991</td>\n",
       "      <td>1.101793</td>\n",
       "      <td>2.551213</td>\n",
       "      <td>0.012907</td>\n",
       "      <td>1.551213</td>\n",
       "      <td>0.012907</td>\n",
       "      <td>-4.34352</td>\n",
       "    </tr>\n",
       "    <tr>\n",
       "      <th>2019-07-26</th>\n",
       "      <td>9870.4004</td>\n",
       "      <td>0</td>\n",
       "      <td>-28.6894</td>\n",
       "      <td>-0.002898</td>\n",
       "      <td>-0.002898</td>\n",
       "      <td>1.098895</td>\n",
       "      <td>2.543819</td>\n",
       "      <td>-0.002902</td>\n",
       "      <td>1.543819</td>\n",
       "      <td>-0.002902</td>\n",
       "      <td>NaN</td>\n",
       "    </tr>\n",
       "  </tbody>\n",
       "</table>\n",
       "</div>"
      ],
      "text/plain": [
       "                 Close       Volume  Price_diff  Daily_Return  Daily_Return_%  \\\n",
       "Date                                                                            \n",
       "2019-07-22  10325.8740  52444285200   -207.0615     -0.019658       -0.019658   \n",
       "2019-07-23   9854.1484  52943812400   -471.7256     -0.045684       -0.045684   \n",
       "2019-07-24   9772.1426  53161190900    -82.0058     -0.008322       -0.008322   \n",
       "2019-07-25   9899.0898            0    126.9472      0.012991        0.012991   \n",
       "2019-07-26   9870.4004            0    -28.6894     -0.002898       -0.002898   \n",
       "\n",
       "            Cumulative Return  Cumulative Return Compounded  Log Daily Return  \\\n",
       "Date                                                                            \n",
       "2019-07-22           1.142808                      2.661205         -0.019854   \n",
       "2019-07-23           1.097124                      2.539631         -0.046760   \n",
       "2019-07-24           1.088802                      2.518496         -0.008357   \n",
       "2019-07-25           1.101793                      2.551213          0.012907   \n",
       "2019-07-26           1.098895                      2.543819         -0.002902   \n",
       "\n",
       "            cumulative_return  Daily_Return_Log  Daily_Return_Log2  \n",
       "Date                                                                \n",
       "2019-07-22           1.661205         -0.019854                NaN  \n",
       "2019-07-23           1.539631         -0.046760                NaN  \n",
       "2019-07-24           1.518496         -0.008357                NaN  \n",
       "2019-07-25           1.551213          0.012907           -4.34352  \n",
       "2019-07-26           1.543819         -0.002902                NaN  "
      ]
     },
     "execution_count": 70,
     "metadata": {},
     "output_type": "execute_result"
    }
   ],
   "source": [
    "btc2['Daily_Return_Log2'] = np.log(btc2['Daily_Return'])\n",
    "btc2.tail()"
   ]
  },
  {
   "cell_type": "code",
   "execution_count": 71,
   "metadata": {},
   "outputs": [
    {
     "data": {
      "text/html": [
       "<div>\n",
       "<style scoped>\n",
       "    .dataframe tbody tr th:only-of-type {\n",
       "        vertical-align: middle;\n",
       "    }\n",
       "\n",
       "    .dataframe tbody tr th {\n",
       "        vertical-align: top;\n",
       "    }\n",
       "\n",
       "    .dataframe thead th {\n",
       "        text-align: right;\n",
       "    }\n",
       "</style>\n",
       "<table border=\"1\" class=\"dataframe\">\n",
       "  <thead>\n",
       "    <tr style=\"text-align: right;\">\n",
       "      <th></th>\n",
       "      <th>Close</th>\n",
       "      <th>Volume</th>\n",
       "      <th>Price_diff</th>\n",
       "      <th>Daily_Return</th>\n",
       "      <th>Daily_Return_%</th>\n",
       "      <th>Cumulative Return</th>\n",
       "      <th>Cumulative Return Compounded</th>\n",
       "      <th>Log Daily Return</th>\n",
       "      <th>cumulative_return</th>\n",
       "      <th>Daily_Return_Log</th>\n",
       "      <th>Daily_Return_Log2</th>\n",
       "      <th>DR</th>\n",
       "    </tr>\n",
       "    <tr>\n",
       "      <th>Date</th>\n",
       "      <th></th>\n",
       "      <th></th>\n",
       "      <th></th>\n",
       "      <th></th>\n",
       "      <th></th>\n",
       "      <th></th>\n",
       "      <th></th>\n",
       "      <th></th>\n",
       "      <th></th>\n",
       "      <th></th>\n",
       "      <th></th>\n",
       "      <th></th>\n",
       "    </tr>\n",
       "  </thead>\n",
       "  <tbody>\n",
       "    <tr>\n",
       "      <th>2019-07-22</th>\n",
       "      <td>10325.8740</td>\n",
       "      <td>52444285200</td>\n",
       "      <td>-207.0615</td>\n",
       "      <td>-0.019658</td>\n",
       "      <td>-0.019658</td>\n",
       "      <td>1.142808</td>\n",
       "      <td>2.661205</td>\n",
       "      <td>-0.019854</td>\n",
       "      <td>1.661205</td>\n",
       "      <td>-0.019854</td>\n",
       "      <td>NaN</td>\n",
       "      <td>NaN</td>\n",
       "    </tr>\n",
       "    <tr>\n",
       "      <th>2019-07-23</th>\n",
       "      <td>9854.1484</td>\n",
       "      <td>52943812400</td>\n",
       "      <td>-471.7256</td>\n",
       "      <td>-0.045684</td>\n",
       "      <td>-0.045684</td>\n",
       "      <td>1.097124</td>\n",
       "      <td>2.539631</td>\n",
       "      <td>-0.046760</td>\n",
       "      <td>1.539631</td>\n",
       "      <td>-0.046760</td>\n",
       "      <td>NaN</td>\n",
       "      <td>NaN</td>\n",
       "    </tr>\n",
       "    <tr>\n",
       "      <th>2019-07-24</th>\n",
       "      <td>9772.1426</td>\n",
       "      <td>53161190900</td>\n",
       "      <td>-82.0058</td>\n",
       "      <td>-0.008322</td>\n",
       "      <td>-0.008322</td>\n",
       "      <td>1.088802</td>\n",
       "      <td>2.518496</td>\n",
       "      <td>-0.008357</td>\n",
       "      <td>1.518496</td>\n",
       "      <td>-0.008357</td>\n",
       "      <td>NaN</td>\n",
       "      <td>NaN</td>\n",
       "    </tr>\n",
       "    <tr>\n",
       "      <th>2019-07-25</th>\n",
       "      <td>9899.0898</td>\n",
       "      <td>0</td>\n",
       "      <td>126.9472</td>\n",
       "      <td>0.012991</td>\n",
       "      <td>0.012991</td>\n",
       "      <td>1.101793</td>\n",
       "      <td>2.551213</td>\n",
       "      <td>0.012907</td>\n",
       "      <td>1.551213</td>\n",
       "      <td>0.012907</td>\n",
       "      <td>-4.34352</td>\n",
       "      <td>-1.886367</td>\n",
       "    </tr>\n",
       "    <tr>\n",
       "      <th>2019-07-26</th>\n",
       "      <td>9870.4004</td>\n",
       "      <td>0</td>\n",
       "      <td>-28.6894</td>\n",
       "      <td>-0.002898</td>\n",
       "      <td>-0.002898</td>\n",
       "      <td>1.098895</td>\n",
       "      <td>2.543819</td>\n",
       "      <td>-0.002902</td>\n",
       "      <td>1.543819</td>\n",
       "      <td>-0.002902</td>\n",
       "      <td>NaN</td>\n",
       "      <td>NaN</td>\n",
       "    </tr>\n",
       "  </tbody>\n",
       "</table>\n",
       "</div>"
      ],
      "text/plain": [
       "                 Close       Volume  Price_diff  Daily_Return  Daily_Return_%  \\\n",
       "Date                                                                            \n",
       "2019-07-22  10325.8740  52444285200   -207.0615     -0.019658       -0.019658   \n",
       "2019-07-23   9854.1484  52943812400   -471.7256     -0.045684       -0.045684   \n",
       "2019-07-24   9772.1426  53161190900    -82.0058     -0.008322       -0.008322   \n",
       "2019-07-25   9899.0898            0    126.9472      0.012991        0.012991   \n",
       "2019-07-26   9870.4004            0    -28.6894     -0.002898       -0.002898   \n",
       "\n",
       "            Cumulative Return  Cumulative Return Compounded  Log Daily Return  \\\n",
       "Date                                                                            \n",
       "2019-07-22           1.142808                      2.661205         -0.019854   \n",
       "2019-07-23           1.097124                      2.539631         -0.046760   \n",
       "2019-07-24           1.088802                      2.518496         -0.008357   \n",
       "2019-07-25           1.101793                      2.551213          0.012907   \n",
       "2019-07-26           1.098895                      2.543819         -0.002902   \n",
       "\n",
       "            cumulative_return  Daily_Return_Log  Daily_Return_Log2        DR  \n",
       "Date                                                                          \n",
       "2019-07-22           1.661205         -0.019854                NaN       NaN  \n",
       "2019-07-23           1.539631         -0.046760                NaN       NaN  \n",
       "2019-07-24           1.518496         -0.008357                NaN       NaN  \n",
       "2019-07-25           1.551213          0.012907           -4.34352 -1.886367  \n",
       "2019-07-26           1.543819         -0.002902                NaN       NaN  "
      ]
     },
     "execution_count": 71,
     "metadata": {},
     "output_type": "execute_result"
    }
   ],
   "source": [
    "btc2['DR']=np.log10(btc2['Daily_Return'])\n",
    "btc2.tail()"
   ]
  },
  {
   "cell_type": "code",
   "execution_count": 72,
   "metadata": {},
   "outputs": [
    {
     "data": {
      "image/png": "[encoded data removed]",
      "text/plain": [
       "<Figure size 432x288 with 1 Axes>"
      ]
     },
     "metadata": {
      "needs_background": "light"
     },
     "output_type": "display_data"
    }
   ],
   "source": [
    "plt.hist(btc2['DR'], bins = 10, color = 'b', alpha = 0.5)\n",
    "plt.title('log10_RoR')\n",
    "plt.title('log_transform_RoR (3)')\n",
    "plt.show()"
   ]
  },
  {
   "cell_type": "code",
   "execution_count": 73,
   "metadata": {},
   "outputs": [
    {
     "data": {
      "image/png": "[encoded data removed]",
      "text/plain": [
       "<Figure size 432x288 with 1 Axes>"
      ]
     },
     "metadata": {
      "needs_background": "light"
     },
     "output_type": "display_data"
    }
   ],
   "source": [
    "btc2['SQRT']=np.sqrt(btc2['Daily_Return'])\n",
    "plt.hist(btc2['SQRT'], bins = 10, color = 'b', alpha = 0.5)\n",
    "plt.title('BTC Square Root_RoR')\n",
    "plt.show()"
   ]
  },
  {
   "cell_type": "markdown",
   "metadata": {},
   "source": [
    "#### Typically the rate of return is normally distrubited. This is evident from the GOLD data. Given that BTC is not a traditional asset, that is highly volatile and largely speculative, its data does not seem to be normally distributed. "
   ]
  }
 ],
 "metadata": {
  "kernelspec": {
   "display_name": "Python 3",
   "language": "python",
   "name": "python3"
  },
  "language_info": {
   "codemirror_mode": {
    "name": "ipython",
    "version": 3
   },
   "file_extension": ".py",
   "mimetype": "text/x-python",
   "name": "python",
   "nbconvert_exporter": "python",
   "pygments_lexer": "ipython3",
   "version": "3.7.3"
  }
 },
 "nbformat": 4,
 "nbformat_minor": 2
}
